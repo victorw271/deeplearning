{
  "cells": [
    {
      "cell_type": "markdown",
      "metadata": {
        "id": "557bc264"
      },
      "source": [
        "<a href=\"https://colab.research.google.com/github/vlamen/tue-deeplearning/blob/main/assignments/assignment_1/Assignment_1.ipynb\" target=\"_parent\"><img src=\"https://colab.research.google.com/assets/colab-badge.svg\" alt=\"Open In Colab\"/></a>"
      ],
      "id": "557bc264"
    },
    {
      "cell_type": "markdown",
      "metadata": {
        "id": "a4ec9a11-3515-40aa-97ac-73c249df560e"
      },
      "source": [
        "# Group Number: group visiha\n",
        "# Student 1: Sidney Damen\n",
        "# Student 2: Haoqi Guo\n",
        "# Student 3: Victor Wen"
      ],
      "id": "a4ec9a11-3515-40aa-97ac-73c249df560e"
    },
    {
      "cell_type": "markdown",
      "metadata": {
        "id": "a8c200a7-b3ab-4c9a-bcf8-320271c040f3"
      },
      "source": [
        "In case you are using google colab, uncomment the following cell, and modify the ```notebook_dir``` variable to contain the directory this notebook is in. It will automatically download the .py files needed for this assignment"
      ],
      "id": "a8c200a7-b3ab-4c9a-bcf8-320271c040f3"
    },
    {
      "cell_type": "code",
      "execution_count": 1,
      "metadata": {
        "id": "igFRsZKIC18S"
      },
      "outputs": [],
      "source": [
        "# Change the following  line to the directory this notebook is (if using colab)\n",
        "# In case you do not know the path, open the file navigator on the left in colab\n",
        "# Find the folder containing this notebook, then press on the three dots --> copy path\n",
        "notebook_dir = \"/content/drive/MyDrive/Colab Notebooks/\""
      ],
      "id": "igFRsZKIC18S"
    },
    {
      "cell_type": "code",
      "execution_count": 2,
      "metadata": {
        "colab": {
          "base_uri": "https://localhost:8080/"
        },
        "id": "828246d4-75b2-42b7-ab06-925e6624f411",
        "outputId": "6b8c8a78-a788-4fec-b151-fa279e81c0ff"
      },
      "outputs": [
        {
          "output_type": "stream",
          "name": "stdout",
          "text": [
            "Drive already mounted at /content/drive; to attempt to forcibly remount, call drive.mount(\"/content/drive\", force_remount=True).\n"
          ]
        }
      ],
      "source": [
        "# UNCOMMENT IF USING COLAB\n",
        "from google.colab import drive\n",
        "import requests\n",
        "drive.mount('/content/drive')\n",
        "import sys\n",
        "import os\n",
        "sys.path.insert(0, notebook_dir) \n",
        "os.chdir(notebook_dir)\n",
        "symco = \"https://github.com/vlamen/tue-deeplearning/blob/main/assignments/assignment_1/symconv.py?raw=true\"\n",
        "crpt = \"https://github.com/vlamen/tue-deeplearning/blob/main/assignments/assignment_1/carpet.py?raw=true\"\n",
        "r_s = requests.get(symco, allow_redirects=True)\n",
        "r_c = requests.get(crpt, allow_redirects=True)\n",
        "with open('symconv.py', 'wb') as f:\n",
        "    f.write(r_s.content)\n",
        "with open('carpet.py', 'wb') as f:\n",
        "    f.write(r_c.content)"
      ],
      "id": "828246d4-75b2-42b7-ab06-925e6624f411"
    },
    {
      "cell_type": "code",
      "execution_count": 3,
      "metadata": {
        "id": "1c401bd6-3828-4f5e-ada8-a026e0a167bf"
      },
      "outputs": [],
      "source": [
        "import torch\n",
        "import torch.nn as nn\n",
        "import torch.nn.functional as F\n",
        "from torch.utils.data import DataLoader, Dataset, TensorDataset\n",
        "\n",
        "import io\n",
        "import requests\n",
        "\n",
        "import symconv as sc\n",
        "from carpet import show_carpet, oh_to_label\n",
        "\n",
        "import numpy as np\n",
        "import matplotlib.pyplot as plt\n",
        "\n",
        "from scipy.spatial.distance import cdist\n",
        "\n",
        "from tqdm import tqdm"
      ],
      "id": "1c401bd6-3828-4f5e-ada8-a026e0a167bf"
    },
    {
      "cell_type": "code",
      "execution_count": 4,
      "metadata": {
        "id": "35c0bcb8-5215-40b3-8ba2-7e4208651c90"
      },
      "outputs": [],
      "source": [
        "def load_numpy_arr_from_url(url):\n",
        "    \"\"\"\n",
        "    Loads a numpy array from surfdrive. \n",
        "    \n",
        "    Input:\n",
        "    url: Download link of dataset \n",
        "    \n",
        "    Outputs:\n",
        "    dataset: numpy array with input features or labels\n",
        "    \"\"\"\n",
        "    \n",
        "    response = requests.get(url)\n",
        "    response.raise_for_status()\n",
        "\n",
        "    return np.load(io.BytesIO(response.content)) "
      ],
      "id": "35c0bcb8-5215-40b3-8ba2-7e4208651c90"
    },
    {
      "cell_type": "markdown",
      "metadata": {
        "id": "045a1fdc-8c84-4829-b8c8-14c957f733f6"
      },
      "source": [
        "# Task 1: Pattern Classification"
      ],
      "id": "045a1fdc-8c84-4829-b8c8-14c957f733f6"
    },
    {
      "cell_type": "code",
      "execution_count": 5,
      "metadata": {
        "colab": {
          "base_uri": "https://localhost:8080/"
        },
        "id": "a45b63ab-610e-4e03-b1da-a717c2a77c8a",
        "outputId": "d6828a9b-d69a-4422-de7d-711606594d14"
      },
      "outputs": [
        {
          "output_type": "stream",
          "name": "stdout",
          "text": [
            "Carpet train shape: torch.Size([7500, 1, 96, 60])\n",
            "Label train shape: torch.Size([7500, 3])\n",
            "Carpet validation shape: torch.Size([2000, 1, 96, 60])\n",
            "Label validation shape: torch.Size([2000, 3])\n",
            "Carpet test shape: torch.Size([500, 1, 96, 60])\n",
            "Label test shape: torch.Size([500, 3])\n"
          ]
        }
      ],
      "source": [
        "# loading training and testing data for task 1\n",
        "# DO NOT MODIFY\n",
        "task1 = load_numpy_arr_from_url(\"https://github.com/vlamen/tue-deeplearning/blob/main/assignments/assignment_1/task1data.npz?raw=true\")\n",
        "# task1 = np.load(\"task1data.npz\")\n",
        "\n",
        "X = torch.tensor(task1['arr_0']).float()\n",
        "y = torch.tensor(task1['arr_1']).float()\n",
        "\n",
        "X_train = X[:7500]\n",
        "X_val = X[7500:9500]\n",
        "X_test = X[9500:]\n",
        "y_train = y[:7500]\n",
        "y_val = y[7500:9500]\n",
        "y_test  = y[9500:]\n",
        "\n",
        "train_dataset = TensorDataset(X_train, y_train)\n",
        "val_dataset = TensorDataset(X_val, y_val)\n",
        "test_dataset = TensorDataset(X_test, y_test)\n",
        "\n",
        "\n",
        "print(f\"Carpet train shape: {X_train.shape}\")\n",
        "print(f\"Label train shape: {y_train.shape}\")\n",
        "print(f\"Carpet validation shape: {X_val.shape}\")\n",
        "print(f\"Label validation shape: {y_val.shape}\")\n",
        "print(f\"Carpet test shape: {X_test.shape}\")\n",
        "print(f\"Label test shape: {y_test.shape}\")"
      ],
      "id": "a45b63ab-610e-4e03-b1da-a717c2a77c8a"
    },
    {
      "cell_type": "code",
      "execution_count": 6,
      "metadata": {
        "colab": {
          "base_uri": "https://localhost:8080/",
          "height": 302
        },
        "id": "a4c5553f-023f-48fc-81b5-83184a46a21d",
        "outputId": "a5988930-21d1-4615-9f26-2b82e33cb76f"
      },
      "outputs": [
        {
          "output_type": "stream",
          "name": "stdout",
          "text": [
            "Carpet from Transformabad\n"
          ]
        },
        {
          "output_type": "display_data",
          "data": {
            "text/plain": [
              "<Figure size 640x480 with 1 Axes>"
            ],
            "image/png": "[encoded data removed]"
          },
          "metadata": {}
        }
      ],
      "source": [
        "# random carpet\n",
        "idx = np.random.randint(0,7500)\n",
        "show_carpet(X_train, idx)\n",
        "print('Carpet from', oh_to_label(y_train[idx,None])[0])"
      ],
      "id": "a4c5553f-023f-48fc-81b5-83184a46a21d"
    },
    {
      "cell_type": "code",
      "execution_count": 7,
      "metadata": {
        "id": "mEvRAcgEG8A9"
      },
      "outputs": [],
      "source": [
        "batch_size = 32\n",
        "image_size = 96*60\n",
        "num_classes = y_train.shape[1]"
      ],
      "id": "mEvRAcgEG8A9"
    },
    {
      "cell_type": "code",
      "execution_count": 8,
      "metadata": {
        "id": "f7552cc3"
      },
      "outputs": [],
      "source": [
        "# Create dataloaders\n",
        "train_loader = DataLoader(train_dataset, batch_size=32, shuffle=True)\n",
        "val_loader = DataLoader(val_dataset, batch_size=32, shuffle=True)\n",
        "test_loader = DataLoader(test_dataset, batch_size=32, shuffle=True)"
      ],
      "id": "f7552cc3"
    },
    {
      "cell_type": "code",
      "execution_count": 9,
      "metadata": {
        "id": "a34f4986"
      },
      "outputs": [],
      "source": [
        "# Train model\n",
        "def train(model, train_loader, val_loader, optimizer, criterion, n_epochs=10, device='cpu'):\n",
        "    train_losses = []\n",
        "    train_accuracies = []\n",
        "    val_losses = []\n",
        "    val_accuracies = []\n",
        "    for epoch in tqdm(range(n_epochs)):\n",
        "        model.train()\n",
        "        train_loss = 0\n",
        "        train_correct = 0\n",
        "        for X, y in train_loader:\n",
        "            X, y = X.to(device), y.to(device)\n",
        "            optimizer.zero_grad()\n",
        "            y_hat = model(X)\n",
        "            loss = criterion(y_hat, y)\n",
        "            loss.backward()\n",
        "            optimizer.step()\n",
        "            train_loss += loss.item()\n",
        "            pred = y_hat.argmax(dim=1, keepdim=True)\n",
        "            train_correct += pred.eq(y.argmax(dim=1, keepdim=True)).sum().item()\n",
        "        train_acc = train_correct/len(train_loader.dataset)\n",
        "        train_loss /= len(train_loader)\n",
        "        train_accuracies.append(train_acc)\n",
        "        train_losses.append(train_loss)\n",
        "        \n",
        "        model.eval()\n",
        "        val_loss = 0\n",
        "        val_correct = 0\n",
        "        with torch.no_grad():\n",
        "          for X, y in val_loader:\n",
        "              X, y = X.to(device), y.to(device)\n",
        "              y_hat = model(X)\n",
        "              loss = criterion(y_hat, y)\n",
        "              val_loss += loss.item()\n",
        "              pred = y_hat.argmax(dim=1, keepdim=True)\n",
        "              val_correct += pred.eq(y.argmax(dim=1, keepdim=True)).sum().item()\n",
        "        val_acc = val_correct/len(val_loader.dataset)\n",
        "        val_loss /= len(val_loader)\n",
        "        val_accuracies.append(val_acc)\n",
        "        val_losses.append(val_loss)\n",
        "\n",
        "        \n",
        "        print(f'Epoch {epoch+1}/{n_epochs}: Train loss: {train_loss:.4f}, Train acc: {train_acc*100:.2f}, Val loss: {val_loss:.4f}, Val acc: {val_acc*100:.2f}')\n",
        "    return train_losses, train_accuracies, val_losses, val_accuracies\n",
        "\n",
        "# Test model\n",
        "def test(model, test_loader, device='cpu'):\n",
        "    model.eval()\n",
        "    test_loss = 0\n",
        "    correct = 0\n",
        "    with torch.no_grad():\n",
        "        for X, y in test_loader:\n",
        "            X, y = X.to(device), y.to(device)\n",
        "            y_hat = model(X)\n",
        "            test_loss += F.cross_entropy(y_hat, y, reduction='sum').item()\n",
        "            pred = y_hat.argmax(dim=1, keepdim=True)\n",
        "            correct += pred.eq(y.argmax(dim=1, keepdim=True)).sum().item()\n",
        "    test_loss /= len(test_loader.dataset)\n",
        "    print(f'Test loss: {test_loss:.4f}, Test accuracy: {correct}/{len(test_loader.dataset)} ({correct/len(test_loader.dataset)*100:.2f}%)')"
      ],
      "id": "a34f4986"
    },
    {
      "cell_type": "code",
      "execution_count": 10,
      "metadata": {
        "id": "qH_igsANhueB"
      },
      "outputs": [],
      "source": [
        "class Lambda(nn.Module):\n",
        "  def __init__(self, func):\n",
        "      super().__init__()\n",
        "      self.func = func\n",
        "\n",
        "  def forward(self, x):\n",
        "      return self.func(x)\n",
        "\n",
        "model = nn.Sequential(\n",
        "    \n",
        "    #block 1\n",
        "\n",
        "    nn.Conv2d(in_channels=1, out_channels=16, kernel_size=3, padding=1),\n",
        "    nn.BatchNorm2d(16),\n",
        "    nn.ReLU(),\n",
        "    nn.Conv2d(in_channels=16, out_channels=16, kernel_size=3, padding=1),\n",
        "    nn.BatchNorm2d(16),\n",
        "    nn.ReLU(),\n",
        "    nn.Conv2d(in_channels=16, out_channels=32, kernel_size=3, padding=1),\n",
        "    nn.BatchNorm2d(32),\n",
        "    nn.ReLU(),\n",
        "\n",
        "    #block 2\n",
        "\n",
        "    sc.Slice(rotation=4, reflection=False),\n",
        "    sc.SymmetryConv2d(32, 32, 4, stride=1, rotation=4, reflection=False),\n",
        "    sc.SymmetryPool(),\n",
        "    nn.BatchNorm2d(32),\n",
        "    nn.MaxPool2d(kernel_size=2, stride=2),\n",
        "\n",
        "    #block 3\n",
        "\n",
        "    sc.Slice(rotation=1, reflection=False),\n",
        "    sc.SymmetryConv2d(32, 64, 3, stride=1, rotation=1, reflection=False),\n",
        "    sc.SymmetryPool(),\n",
        "    nn.BatchNorm2d(64),\n",
        "    nn.MaxPool2d(kernel_size=2, stride=2),\n",
        "\n",
        "    #block 4\n",
        "\n",
        "    sc.Slice(rotation=4, reflection=False),\n",
        "    sc.SymmetryConv2d(64, 128, 8, stride=1, rotation=4, reflection=False),\n",
        "    sc.SymmetryPool(),\n",
        "    nn.BatchNorm2d(128),\n",
        "    nn.MaxPool2d(kernel_size=2, stride=2),\n",
        "\n",
        "    #block 5\n",
        "\n",
        "    Lambda(lambda x: x.view(x.size(0),-1)),\n",
        "    nn.Linear(2688 , 1024),\n",
        "    nn.BatchNorm1d(1024),\n",
        "    nn.ReLU(),\n",
        "    nn.Dropout(0.5),\n",
        "    nn.Linear(1024, num_classes),\n",
        "    nn.Softmax(dim=1)\n",
        "\n",
        ")      "
      ],
      "id": "qH_igsANhueB"
    },
    {
      "cell_type": "code",
      "execution_count": 11,
      "metadata": {
        "id": "jPlfFMQCow8L"
      },
      "outputs": [],
      "source": [
        "import pandas as pd\n",
        "\n",
        "def plot_learning_curves(train_loss, train_accuracies, val_losses, val_accuracies):\n",
        "    # Plot the losses and accuracies\n",
        "    learning_curves = pd.DataFrame({'Train loss': train_losses, 'Train accuracy': train_accuracies, 'Validation loss': val_losses, 'Validation accuracy': val_accuracies})\n",
        "\n",
        "    print(\"Max val score: {:.2f}%\".format(learning_curves.iloc[:,3].max()*100))\n",
        "    learning_curves.plot(lw=2,style=['b:','r:','b-','r-'])\n",
        "    plt.xlabel('epochs')\n",
        "    plt.show()"
      ],
      "id": "jPlfFMQCow8L"
    },
    {
      "cell_type": "code",
      "execution_count": 14,
      "metadata": {
        "colab": {
          "base_uri": "https://localhost:8080/",
          "height": 935
        },
        "id": "2022e9aa",
        "outputId": "5f033f56-65d9-4df9-b580-544f285cca3c"
      },
      "outputs": [
        {
          "output_type": "stream",
          "name": "stderr",
          "text": [
            "  4%|▍         | 1/25 [00:23<09:34, 23.95s/it]"
          ]
        },
        {
          "output_type": "stream",
          "name": "stdout",
          "text": [
            "Epoch 1/25: Train loss: 1.0555, Train acc: 43.80, Val loss: 0.9351, Val acc: 59.70\n"
          ]
        },
        {
          "output_type": "stream",
          "name": "stderr",
          "text": [
            "\r  8%|▊         | 2/25 [00:46<08:51, 23.09s/it]"
          ]
        },
        {
          "output_type": "stream",
          "name": "stdout",
          "text": [
            "Epoch 2/25: Train loss: 0.8560, Train acc: 69.05, Val loss: 0.8166, Val acc: 73.25\n"
          ]
        },
        {
          "output_type": "stream",
          "name": "stderr",
          "text": [
            "\r 12%|█▏        | 3/25 [01:08<08:21, 22.80s/it]"
          ]
        },
        {
          "output_type": "stream",
          "name": "stdout",
          "text": [
            "Epoch 3/25: Train loss: 0.7522, Train acc: 80.03, Val loss: 0.7155, Val acc: 84.15\n"
          ]
        },
        {
          "output_type": "stream",
          "name": "stderr",
          "text": [
            "\r 16%|█▌        | 4/25 [01:31<07:54, 22.58s/it]"
          ]
        },
        {
          "output_type": "stream",
          "name": "stdout",
          "text": [
            "Epoch 4/25: Train loss: 0.6906, Train acc: 86.40, Val loss: 0.7634, Val acc: 77.75\n"
          ]
        },
        {
          "output_type": "stream",
          "name": "stderr",
          "text": [
            "\r 20%|██        | 5/25 [01:53<07:29, 22.48s/it]"
          ]
        },
        {
          "output_type": "stream",
          "name": "stdout",
          "text": [
            "Epoch 5/25: Train loss: 0.6623, Train acc: 89.13, Val loss: 0.7369, Val acc: 80.45\n"
          ]
        },
        {
          "output_type": "stream",
          "name": "stderr",
          "text": [
            "\r 24%|██▍       | 6/25 [02:16<07:08, 22.54s/it]"
          ]
        },
        {
          "output_type": "stream",
          "name": "stdout",
          "text": [
            "Epoch 6/25: Train loss: 0.6469, Train acc: 90.73, Val loss: 0.6627, Val acc: 89.05\n"
          ]
        },
        {
          "output_type": "stream",
          "name": "stderr",
          "text": [
            "\r 28%|██▊       | 7/25 [02:38<06:45, 22.51s/it]"
          ]
        },
        {
          "output_type": "stream",
          "name": "stdout",
          "text": [
            "Epoch 7/25: Train loss: 0.6254, Train acc: 92.77, Val loss: 0.6616, Val acc: 88.65\n"
          ]
        },
        {
          "output_type": "stream",
          "name": "stderr",
          "text": [
            "\r 32%|███▏      | 8/25 [03:00<06:21, 22.45s/it]"
          ]
        },
        {
          "output_type": "stream",
          "name": "stdout",
          "text": [
            "Epoch 8/25: Train loss: 0.6218, Train acc: 92.95, Val loss: 0.6546, Val acc: 89.60\n"
          ]
        },
        {
          "output_type": "stream",
          "name": "stderr",
          "text": [
            "\r 36%|███▌      | 9/25 [03:23<05:58, 22.42s/it]"
          ]
        },
        {
          "output_type": "stream",
          "name": "stdout",
          "text": [
            "Epoch 9/25: Train loss: 0.6040, Train acc: 94.91, Val loss: 0.6616, Val acc: 88.85\n"
          ]
        },
        {
          "output_type": "stream",
          "name": "stderr",
          "text": [
            "\r 40%|████      | 10/25 [03:45<05:36, 22.41s/it]"
          ]
        },
        {
          "output_type": "stream",
          "name": "stdout",
          "text": [
            "Epoch 10/25: Train loss: 0.6049, Train acc: 94.91, Val loss: 0.6438, Val acc: 90.65\n"
          ]
        },
        {
          "output_type": "stream",
          "name": "stderr",
          "text": [
            "\r 44%|████▍     | 11/25 [04:07<05:13, 22.39s/it]"
          ]
        },
        {
          "output_type": "stream",
          "name": "stdout",
          "text": [
            "Epoch 11/25: Train loss: 0.5986, Train acc: 95.41, Val loss: 0.6457, Val acc: 90.40\n"
          ]
        },
        {
          "output_type": "stream",
          "name": "stderr",
          "text": [
            "\r 48%|████▊     | 12/25 [04:30<04:50, 22.38s/it]"
          ]
        },
        {
          "output_type": "stream",
          "name": "stdout",
          "text": [
            "Epoch 12/25: Train loss: 0.5911, Train acc: 96.03, Val loss: 0.6412, Val acc: 90.80\n"
          ]
        },
        {
          "output_type": "stream",
          "name": "stderr",
          "text": [
            "\r 52%|█████▏    | 13/25 [04:52<04:28, 22.38s/it]"
          ]
        },
        {
          "output_type": "stream",
          "name": "stdout",
          "text": [
            "Epoch 13/25: Train loss: 0.5819, Train acc: 97.03, Val loss: 0.6356, Val acc: 91.60\n"
          ]
        },
        {
          "output_type": "stream",
          "name": "stderr",
          "text": [
            "\r 56%|█████▌    | 14/25 [05:15<04:06, 22.37s/it]"
          ]
        },
        {
          "output_type": "stream",
          "name": "stdout",
          "text": [
            "Epoch 14/25: Train loss: 0.5902, Train acc: 96.08, Val loss: 0.6555, Val acc: 89.00\n"
          ]
        },
        {
          "output_type": "stream",
          "name": "stderr",
          "text": [
            "\r 60%|██████    | 15/25 [05:37<03:43, 22.37s/it]"
          ]
        },
        {
          "output_type": "stream",
          "name": "stdout",
          "text": [
            "Epoch 15/25: Train loss: 0.5798, Train acc: 97.28, Val loss: 0.6229, Val acc: 93.10\n"
          ]
        },
        {
          "output_type": "stream",
          "name": "stderr",
          "text": [
            "\r 64%|██████▍   | 16/25 [05:59<03:21, 22.36s/it]"
          ]
        },
        {
          "output_type": "stream",
          "name": "stdout",
          "text": [
            "Epoch 16/25: Train loss: 0.5770, Train acc: 97.56, Val loss: 0.6502, Val acc: 89.70\n"
          ]
        },
        {
          "output_type": "stream",
          "name": "stderr",
          "text": [
            "\r 68%|██████▊   | 17/25 [06:22<02:58, 22.36s/it]"
          ]
        },
        {
          "output_type": "stream",
          "name": "stdout",
          "text": [
            "Epoch 17/25: Train loss: 0.5745, Train acc: 97.72, Val loss: 0.6304, Val acc: 92.00\n"
          ]
        },
        {
          "output_type": "stream",
          "name": "stderr",
          "text": [
            "\r 72%|███████▏  | 18/25 [06:44<02:36, 22.35s/it]"
          ]
        },
        {
          "output_type": "stream",
          "name": "stdout",
          "text": [
            "Epoch 18/25: Train loss: 0.5740, Train acc: 97.80, Val loss: 0.6391, Val acc: 91.25\n"
          ]
        },
        {
          "output_type": "stream",
          "name": "stderr",
          "text": [
            "\r 76%|███████▌  | 19/25 [07:06<02:14, 22.35s/it]"
          ]
        },
        {
          "output_type": "stream",
          "name": "stdout",
          "text": [
            "Epoch 19/25: Train loss: 0.5737, Train acc: 97.77, Val loss: 0.6351, Val acc: 91.40\n"
          ]
        },
        {
          "output_type": "stream",
          "name": "stderr",
          "text": [
            "\r 80%|████████  | 20/25 [07:29<01:51, 22.35s/it]"
          ]
        },
        {
          "output_type": "stream",
          "name": "stdout",
          "text": [
            "Epoch 20/25: Train loss: 0.5750, Train acc: 97.67, Val loss: 0.6313, Val acc: 91.65\n"
          ]
        },
        {
          "output_type": "stream",
          "name": "stderr",
          "text": [
            "\r 84%|████████▍ | 21/25 [07:51<01:29, 22.34s/it]"
          ]
        },
        {
          "output_type": "stream",
          "name": "stdout",
          "text": [
            "Epoch 21/25: Train loss: 0.5750, Train acc: 97.63, Val loss: 0.6431, Val acc: 90.55\n"
          ]
        },
        {
          "output_type": "stream",
          "name": "stderr",
          "text": [
            "\r 88%|████████▊ | 22/25 [08:13<01:07, 22.34s/it]"
          ]
        },
        {
          "output_type": "stream",
          "name": "stdout",
          "text": [
            "Epoch 22/25: Train loss: 0.5721, Train acc: 98.03, Val loss: 0.6227, Val acc: 92.65\n"
          ]
        },
        {
          "output_type": "stream",
          "name": "stderr",
          "text": [
            "\r 92%|█████████▏| 23/25 [08:36<00:44, 22.34s/it]"
          ]
        },
        {
          "output_type": "stream",
          "name": "stdout",
          "text": [
            "Epoch 23/25: Train loss: 0.5700, Train acc: 98.16, Val loss: 0.6176, Val acc: 93.25\n"
          ]
        },
        {
          "output_type": "stream",
          "name": "stderr",
          "text": [
            "\r 96%|█████████▌| 24/25 [08:58<00:22, 22.33s/it]"
          ]
        },
        {
          "output_type": "stream",
          "name": "stdout",
          "text": [
            "Epoch 24/25: Train loss: 0.5718, Train acc: 97.91, Val loss: 0.6319, Val acc: 92.05\n"
          ]
        },
        {
          "output_type": "stream",
          "name": "stderr",
          "text": [
            "100%|██████████| 25/25 [09:20<00:00, 22.43s/it]"
          ]
        },
        {
          "output_type": "stream",
          "name": "stdout",
          "text": [
            "Epoch 25/25: Train loss: 0.5690, Train acc: 98.23, Val loss: 0.6220, Val acc: 92.65\n"
          ]
        },
        {
          "output_type": "stream",
          "name": "stderr",
          "text": [
            "\n"
          ]
        },
        {
          "output_type": "stream",
          "name": "stdout",
          "text": [
            "Test loss: 0.6274, Test accuracy: 459/500 (91.80%)\n",
            "Max val score: 93.25%\n"
          ]
        },
        {
          "output_type": "display_data",
          "data": {
            "text/plain": [
              "<Figure size 640x480 with 1 Axes>"
            ],
            "image/png": "[encoded data removed]"
          },
          "metadata": {}
        }
      ],
      "source": [
        "criterion = nn.CrossEntropyLoss()\n",
        "optimizer = torch.optim.Adam(model.parameters(), lr=0.001)\n",
        "\n",
        "device = torch.device(\"cuda\" if torch.cuda.is_available() else \"cpu\")\n",
        "model.to(device)\n",
        "train_losses, train_accuracies, val_losses, val_accuracies = train(model, train_loader, val_loader, optimizer, criterion, n_epochs=25, device=device)\n",
        "test(model, test_loader, device=device)\n",
        "plot_learning_curves(train_losses, train_accuracies, val_losses, val_accuracies)"
      ],
      "id": "2022e9aa"
    },
    {
      "cell_type": "markdown",
      "metadata": {
        "id": "06c5a8d4"
      },
      "source": [
        "## Task 1: Question 5d"
      ],
      "id": "06c5a8d4"
    },
    {
      "cell_type": "markdown",
      "metadata": {
        "id": "otOZSx0EnlKY"
      },
      "source": [
        "### Different optimizers"
      ],
      "id": "otOZSx0EnlKY"
    },
    {
      "cell_type": "code",
      "source": [
        "# Define new model to prevent ablation study to avoid messing with other results\n",
        "\n",
        "modelSGD = nn.Sequential(\n",
        "    \n",
        "    #block 1\n",
        "\n",
        "    nn.Conv2d(in_channels=1, out_channels=16, kernel_size=3, padding=1),\n",
        "    nn.BatchNorm2d(16),\n",
        "    nn.ReLU(),\n",
        "    nn.Conv2d(in_channels=16, out_channels=16, kernel_size=3, padding=1),\n",
        "    nn.BatchNorm2d(16),\n",
        "    nn.ReLU(),\n",
        "    nn.Conv2d(in_channels=16, out_channels=32, kernel_size=3, padding=1),\n",
        "    nn.BatchNorm2d(32),\n",
        "    nn.ReLU(),\n",
        "\n",
        "    #block 2\n",
        "\n",
        "    sc.Slice(rotation=4, reflection=False),\n",
        "    sc.SymmetryConv2d(32, 32, 4, stride=1, rotation=4, reflection=False),\n",
        "    sc.SymmetryPool(),\n",
        "    nn.BatchNorm2d(32),\n",
        "    nn.MaxPool2d(kernel_size=2, stride=2),\n",
        "\n",
        "    #block 3\n",
        "\n",
        "    sc.Slice(rotation=1, reflection=False),\n",
        "    sc.SymmetryConv2d(32, 64, 3, stride=1, rotation=1, reflection=False),\n",
        "    sc.SymmetryPool(),\n",
        "    nn.BatchNorm2d(64),\n",
        "    nn.MaxPool2d(kernel_size=2, stride=2),\n",
        "\n",
        "    #block 4\n",
        "\n",
        "    sc.Slice(rotation=4, reflection=False),\n",
        "    sc.SymmetryConv2d(64, 128, 8, stride=1, rotation=4, reflection=False),\n",
        "    sc.SymmetryPool(),\n",
        "    nn.BatchNorm2d(128),\n",
        "    nn.MaxPool2d(kernel_size=2, stride=2),\n",
        "\n",
        "    #block 5\n",
        "\n",
        "    Lambda(lambda x: x.view(x.size(0),-1)),\n",
        "    nn.Linear(2688 , 1024),\n",
        "    nn.BatchNorm1d(1024),\n",
        "    nn.ReLU(),\n",
        "    nn.Dropout(0.5),\n",
        "    nn.Linear(1024, num_classes),\n",
        "    nn.Softmax(dim=1)\n",
        "\n",
        ")      \n",
        "\n",
        "modelSGD.to(device)"
      ],
      "metadata": {
        "id": "YrsXA2RMqIU9"
      },
      "id": "YrsXA2RMqIU9",
      "execution_count": 21,
      "outputs": []
    },
    {
      "cell_type": "code",
      "execution_count": 22,
      "metadata": {
        "colab": {
          "base_uri": "https://localhost:8080/",
          "height": 935
        },
        "id": "37e8735b",
        "outputId": "2d933bb8-b94d-4692-d801-637bb4fc35e6"
      },
      "outputs": [
        {
          "metadata": {
            "tags": null
          },
          "name": "stderr",
          "output_type": "stream",
          "text": [
            "  4%|▍         | 1/25 [00:22<09:06, 22.78s/it]"
          ]
        },
        {
          "metadata": {
            "tags": null
          },
          "name": "stdout",
          "output_type": "stream",
          "text": [
            "Epoch 1/25: Train loss: 1.1068, Train acc: 33.65, Val loss: 1.1050, Val acc: 32.40\n"
          ]
        },
        {
          "metadata": {
            "tags": null
          },
          "name": "stderr",
          "output_type": "stream",
          "text": [
            "\r  8%|▊         | 2/25 [00:45<08:40, 22.63s/it]"
          ]
        },
        {
          "metadata": {
            "tags": null
          },
          "name": "stdout",
          "output_type": "stream",
          "text": [
            "Epoch 2/25: Train loss: 1.0989, Train acc: 35.69, Val loss: 1.1050, Val acc: 32.55\n"
          ]
        },
        {
          "metadata": {
            "tags": null
          },
          "name": "stderr",
          "output_type": "stream",
          "text": [
            "\r 12%|█▏        | 3/25 [01:08<08:24, 22.93s/it]"
          ]
        },
        {
          "metadata": {
            "tags": null
          },
          "name": "stdout",
          "output_type": "stream",
          "text": [
            "Epoch 3/25: Train loss: 1.0929, Train acc: 36.80, Val loss: 1.1046, Val acc: 33.45\n"
          ]
        },
        {
          "metadata": {
            "tags": null
          },
          "name": "stderr",
          "output_type": "stream",
          "text": [
            "\r 16%|█▌        | 4/25 [01:31<07:58, 22.77s/it]"
          ]
        },
        {
          "metadata": {
            "tags": null
          },
          "name": "stdout",
          "output_type": "stream",
          "text": [
            "Epoch 4/25: Train loss: 1.0875, Train acc: 39.41, Val loss: 1.1044, Val acc: 33.55\n"
          ]
        },
        {
          "metadata": {
            "tags": null
          },
          "name": "stderr",
          "output_type": "stream",
          "text": [
            "\r 20%|██        | 5/25 [01:53<07:31, 22.57s/it]"
          ]
        },
        {
          "metadata": {
            "tags": null
          },
          "name": "stdout",
          "output_type": "stream",
          "text": [
            "Epoch 5/25: Train loss: 1.0822, Train acc: 40.56, Val loss: 1.1036, Val acc: 34.90\n"
          ]
        },
        {
          "metadata": {
            "tags": null
          },
          "name": "stderr",
          "output_type": "stream",
          "text": [
            "\r 24%|██▍       | 6/25 [02:15<07:06, 22.47s/it]"
          ]
        },
        {
          "metadata": {
            "tags": null
          },
          "name": "stdout",
          "output_type": "stream",
          "text": [
            "Epoch 6/25: Train loss: 1.0777, Train acc: 42.16, Val loss: 1.1028, Val acc: 35.00\n"
          ]
        },
        {
          "metadata": {
            "tags": null
          },
          "name": "stderr",
          "output_type": "stream",
          "text": [
            "\r 28%|██▊       | 7/25 [02:38<06:47, 22.64s/it]"
          ]
        },
        {
          "metadata": {
            "tags": null
          },
          "name": "stdout",
          "output_type": "stream",
          "text": [
            "Epoch 7/25: Train loss: 1.0726, Train acc: 42.44, Val loss: 1.1018, Val acc: 34.90\n"
          ]
        },
        {
          "metadata": {
            "tags": null
          },
          "name": "stderr",
          "output_type": "stream",
          "text": [
            "\r 32%|███▏      | 8/25 [03:01<06:24, 22.60s/it]"
          ]
        },
        {
          "metadata": {
            "tags": null
          },
          "name": "stdout",
          "output_type": "stream",
          "text": [
            "Epoch 8/25: Train loss: 1.0666, Train acc: 45.17, Val loss: 1.1024, Val acc: 35.65\n"
          ]
        },
        {
          "metadata": {
            "tags": null
          },
          "name": "stderr",
          "output_type": "stream",
          "text": [
            "\r 36%|███▌      | 9/25 [03:23<06:00, 22.55s/it]"
          ]
        },
        {
          "metadata": {
            "tags": null
          },
          "name": "stdout",
          "output_type": "stream",
          "text": [
            "Epoch 9/25: Train loss: 1.0595, Train acc: 46.21, Val loss: 1.1009, Val acc: 35.85\n"
          ]
        },
        {
          "metadata": {
            "tags": null
          },
          "name": "stderr",
          "output_type": "stream",
          "text": [
            "\r 40%|████      | 10/25 [03:45<05:36, 22.42s/it]"
          ]
        },
        {
          "metadata": {
            "tags": null
          },
          "name": "stdout",
          "output_type": "stream",
          "text": [
            "Epoch 10/25: Train loss: 1.0567, Train acc: 46.80, Val loss: 1.1007, Val acc: 34.90\n"
          ]
        },
        {
          "metadata": {
            "tags": null
          },
          "name": "stderr",
          "output_type": "stream",
          "text": [
            "\r 44%|████▍     | 11/25 [04:07<05:12, 22.35s/it]"
          ]
        },
        {
          "metadata": {
            "tags": null
          },
          "name": "stdout",
          "output_type": "stream",
          "text": [
            "Epoch 11/25: Train loss: 1.0510, Train acc: 48.28, Val loss: 1.0990, Val acc: 35.90\n"
          ]
        },
        {
          "metadata": {
            "tags": null
          },
          "name": "stderr",
          "output_type": "stream",
          "text": [
            "\r 48%|████▊     | 12/25 [04:29<04:49, 22.28s/it]"
          ]
        },
        {
          "metadata": {
            "tags": null
          },
          "name": "stdout",
          "output_type": "stream",
          "text": [
            "Epoch 12/25: Train loss: 1.0445, Train acc: 49.96, Val loss: 1.0989, Val acc: 35.90\n"
          ]
        },
        {
          "metadata": {
            "tags": null
          },
          "name": "stderr",
          "output_type": "stream",
          "text": [
            "\r 52%|█████▏    | 13/25 [04:52<04:26, 22.23s/it]"
          ]
        },
        {
          "metadata": {
            "tags": null
          },
          "name": "stdout",
          "output_type": "stream",
          "text": [
            "Epoch 13/25: Train loss: 1.0403, Train acc: 50.41, Val loss: 1.0990, Val acc: 34.75\n"
          ]
        },
        {
          "metadata": {
            "tags": null
          },
          "name": "stderr",
          "output_type": "stream",
          "text": [
            "\r 56%|█████▌    | 14/25 [05:14<04:04, 22.20s/it]"
          ]
        },
        {
          "metadata": {
            "tags": null
          },
          "name": "stdout",
          "output_type": "stream",
          "text": [
            "Epoch 14/25: Train loss: 1.0336, Train acc: 52.40, Val loss: 1.0983, Val acc: 35.20\n"
          ]
        },
        {
          "metadata": {
            "tags": null
          },
          "name": "stderr",
          "output_type": "stream",
          "text": [
            "\r 60%|██████    | 15/25 [05:36<03:41, 22.16s/it]"
          ]
        },
        {
          "metadata": {
            "tags": null
          },
          "name": "stdout",
          "output_type": "stream",
          "text": [
            "Epoch 15/25: Train loss: 1.0307, Train acc: 52.85, Val loss: 1.0984, Val acc: 35.85\n"
          ]
        },
        {
          "metadata": {
            "tags": null
          },
          "name": "stderr",
          "output_type": "stream",
          "text": [
            "\r 64%|██████▍   | 16/25 [05:58<03:19, 22.14s/it]"
          ]
        },
        {
          "metadata": {
            "tags": null
          },
          "name": "stdout",
          "output_type": "stream",
          "text": [
            "Epoch 16/25: Train loss: 1.0260, Train acc: 53.93, Val loss: 1.0966, Val acc: 35.30\n"
          ]
        },
        {
          "metadata": {
            "tags": null
          },
          "name": "stderr",
          "output_type": "stream",
          "text": [
            "\r 68%|██████▊   | 17/25 [06:20<02:57, 22.13s/it]"
          ]
        },
        {
          "metadata": {
            "tags": null
          },
          "name": "stdout",
          "output_type": "stream",
          "text": [
            "Epoch 17/25: Train loss: 1.0196, Train acc: 55.09, Val loss: 1.0956, Val acc: 36.35\n"
          ]
        },
        {
          "metadata": {
            "tags": null
          },
          "name": "stderr",
          "output_type": "stream",
          "text": [
            "\r 72%|███████▏  | 18/25 [06:42<02:34, 22.11s/it]"
          ]
        },
        {
          "metadata": {
            "tags": null
          },
          "name": "stdout",
          "output_type": "stream",
          "text": [
            "Epoch 18/25: Train loss: 1.0117, Train acc: 56.71, Val loss: 1.0952, Val acc: 36.50\n"
          ]
        },
        {
          "output_type": "stream",
          "name": "stderr",
          "text": [
            "\r 76%|███████▌  | 19/25 [07:04<02:12, 22.10s/it]"
          ]
        },
        {
          "output_type": "stream",
          "name": "stdout",
          "text": [
            "Epoch 19/25: Train loss: 1.0105, Train acc: 56.47, Val loss: 1.0924, Val acc: 37.60\n"
          ]
        },
        {
          "output_type": "stream",
          "name": "stderr",
          "text": [
            "\r 80%|████████  | 20/25 [07:26<01:50, 22.09s/it]"
          ]
        },
        {
          "output_type": "stream",
          "name": "stdout",
          "text": [
            "Epoch 20/25: Train loss: 1.0006, Train acc: 58.93, Val loss: 1.0927, Val acc: 36.75\n"
          ]
        },
        {
          "output_type": "stream",
          "name": "stderr",
          "text": [
            "\r 84%|████████▍ | 21/25 [07:48<01:28, 22.08s/it]"
          ]
        },
        {
          "output_type": "stream",
          "name": "stdout",
          "text": [
            "Epoch 21/25: Train loss: 0.9968, Train acc: 58.43, Val loss: 1.0939, Val acc: 36.95\n"
          ]
        },
        {
          "output_type": "stream",
          "name": "stderr",
          "text": [
            "\r 88%|████████▊ | 22/25 [08:10<01:06, 22.08s/it]"
          ]
        },
        {
          "output_type": "stream",
          "name": "stdout",
          "text": [
            "Epoch 22/25: Train loss: 0.9904, Train acc: 59.80, Val loss: 1.0928, Val acc: 36.85\n"
          ]
        },
        {
          "output_type": "stream",
          "name": "stderr",
          "text": [
            "\r 92%|█████████▏| 23/25 [08:32<00:44, 22.08s/it]"
          ]
        },
        {
          "output_type": "stream",
          "name": "stdout",
          "text": [
            "Epoch 23/25: Train loss: 0.9824, Train acc: 61.47, Val loss: 1.0941, Val acc: 36.95\n"
          ]
        },
        {
          "output_type": "stream",
          "name": "stderr",
          "text": [
            "\r 96%|█████████▌| 24/25 [08:55<00:22, 22.09s/it]"
          ]
        },
        {
          "output_type": "stream",
          "name": "stdout",
          "text": [
            "Epoch 24/25: Train loss: 0.9789, Train acc: 62.48, Val loss: 1.0920, Val acc: 38.30\n"
          ]
        },
        {
          "output_type": "stream",
          "name": "stderr",
          "text": [
            "100%|██████████| 25/25 [09:17<00:00, 22.29s/it]"
          ]
        },
        {
          "output_type": "stream",
          "name": "stdout",
          "text": [
            "Epoch 25/25: Train loss: 0.9731, Train acc: 62.84, Val loss: 1.0902, Val acc: 37.95\n"
          ]
        },
        {
          "output_type": "stream",
          "name": "stderr",
          "text": [
            "\n"
          ]
        },
        {
          "output_type": "stream",
          "name": "stdout",
          "text": [
            "Test loss: 1.0883, Test accuracy: 186/500 (37.20%)\n",
            "Max val score: 38.30%\n"
          ]
        },
        {
          "output_type": "display_data",
          "data": {
            "text/plain": [
              "<Figure size 640x480 with 1 Axes>"
            ],
            "image/png": "[encoded data removed]"
          },
          "metadata": {}
        }
      ],
      "source": [
        "optimizerSGD = torch.optim.SGD(modelSGD.parameters(), lr=0.001)\n",
        "train_losses, train_accuracies, val_losses, val_accuracies = train(modelSGD.to(device), train_loader, val_loader, optimizerSGD, criterion, n_epochs=25, device=device)\n",
        "test(modelSGD, test_loader, device=device)\n",
        "plot_learning_curves(train_losses, train_accuracies, val_losses, val_accuracies)"
      ],
      "id": "37e8735b"
    },
    {
      "cell_type": "code",
      "source": [
        "# Define new model to prevent ablation study to avoid messing with other results\n",
        "\n",
        "modelAda = nn.Sequential(\n",
        "    \n",
        "    #block 1\n",
        "\n",
        "    nn.Conv2d(in_channels=1, out_channels=16, kernel_size=3, padding=1),\n",
        "    nn.BatchNorm2d(16),\n",
        "    nn.ReLU(),\n",
        "    nn.Conv2d(in_channels=16, out_channels=16, kernel_size=3, padding=1),\n",
        "    nn.BatchNorm2d(16),\n",
        "    nn.ReLU(),\n",
        "    nn.Conv2d(in_channels=16, out_channels=32, kernel_size=3, padding=1),\n",
        "    nn.BatchNorm2d(32),\n",
        "    nn.ReLU(),\n",
        "\n",
        "    #block 2\n",
        "\n",
        "    sc.Slice(rotation=4, reflection=False),\n",
        "    sc.SymmetryConv2d(32, 32, 4, stride=1, rotation=4, reflection=False),\n",
        "    sc.SymmetryPool(),\n",
        "    nn.BatchNorm2d(32),\n",
        "    nn.MaxPool2d(kernel_size=2, stride=2),\n",
        "\n",
        "    #block 3\n",
        "\n",
        "    sc.Slice(rotation=1, reflection=False),\n",
        "    sc.SymmetryConv2d(32, 64, 3, stride=1, rotation=1, reflection=False),\n",
        "    sc.SymmetryPool(),\n",
        "    nn.BatchNorm2d(64),\n",
        "    nn.MaxPool2d(kernel_size=2, stride=2),\n",
        "\n",
        "    #block 4\n",
        "\n",
        "    sc.Slice(rotation=4, reflection=False),\n",
        "    sc.SymmetryConv2d(64, 128, 8, stride=1, rotation=4, reflection=False),\n",
        "    sc.SymmetryPool(),\n",
        "    nn.BatchNorm2d(128),\n",
        "    nn.MaxPool2d(kernel_size=2, stride=2),\n",
        "\n",
        "    #block 5\n",
        "\n",
        "    Lambda(lambda x: x.view(x.size(0),-1)),\n",
        "    nn.Linear(2688 , 1024),\n",
        "    nn.BatchNorm1d(1024),\n",
        "    nn.ReLU(),\n",
        "    nn.Dropout(0.5),\n",
        "    nn.Linear(1024, num_classes),\n",
        "    nn.Softmax(dim=1)\n",
        "\n",
        ")      "
      ],
      "metadata": {
        "id": "5KV9OIZWqkY-"
      },
      "id": "5KV9OIZWqkY-",
      "execution_count": 26,
      "outputs": []
    },
    {
      "cell_type": "code",
      "execution_count": 27,
      "metadata": {
        "colab": {
          "base_uri": "https://localhost:8080/",
          "height": 935
        },
        "id": "NKoSTxI0pP4n",
        "outputId": "d9022b90-595f-42a6-df6c-2c813a5e3cfd"
      },
      "outputs": [
        {
          "metadata": {
            "tags": null
          },
          "name": "stderr",
          "output_type": "stream",
          "text": [
            "  4%|▍         | 1/25 [00:23<09:15, 23.15s/it]"
          ]
        },
        {
          "metadata": {
            "tags": null
          },
          "name": "stdout",
          "output_type": "stream",
          "text": [
            "Epoch 1/25: Train loss: 1.1078, Train acc: 34.71, Val loss: 1.1032, Val acc: 34.80\n"
          ]
        },
        {
          "metadata": {
            "tags": null
          },
          "name": "stderr",
          "output_type": "stream",
          "text": [
            "\r  8%|▊         | 2/25 [00:45<08:47, 22.95s/it]"
          ]
        },
        {
          "metadata": {
            "tags": null
          },
          "name": "stdout",
          "output_type": "stream",
          "text": [
            "Epoch 2/25: Train loss: 0.9900, Train acc: 59.00, Val loss: 1.1025, Val acc: 34.95\n"
          ]
        },
        {
          "metadata": {
            "tags": null
          },
          "name": "stderr",
          "output_type": "stream",
          "text": [
            "\r 12%|█▏        | 3/25 [01:08<08:19, 22.69s/it]"
          ]
        },
        {
          "metadata": {
            "tags": null
          },
          "name": "stdout",
          "output_type": "stream",
          "text": [
            "Epoch 3/25: Train loss: 0.9173, Train acc: 70.27, Val loss: 1.1039, Val acc: 35.05\n"
          ]
        },
        {
          "metadata": {
            "tags": null
          },
          "name": "stderr",
          "output_type": "stream",
          "text": [
            "\r 16%|█▌        | 4/25 [01:30<07:52, 22.50s/it]"
          ]
        },
        {
          "metadata": {
            "tags": null
          },
          "name": "stdout",
          "output_type": "stream",
          "text": [
            "Epoch 4/25: Train loss: 0.8638, Train acc: 76.25, Val loss: 1.1078, Val acc: 36.10\n"
          ]
        },
        {
          "metadata": {
            "tags": null
          },
          "name": "stderr",
          "output_type": "stream",
          "text": [
            "\r 20%|██        | 5/25 [01:52<07:29, 22.45s/it]"
          ]
        },
        {
          "metadata": {
            "tags": null
          },
          "name": "stdout",
          "output_type": "stream",
          "text": [
            "Epoch 5/25: Train loss: 0.8214, Train acc: 81.33, Val loss: 1.1070, Val acc: 36.00\n"
          ]
        },
        {
          "metadata": {
            "tags": null
          },
          "name": "stderr",
          "output_type": "stream",
          "text": [
            "\r 24%|██▍       | 6/25 [02:15<07:05, 22.42s/it]"
          ]
        },
        {
          "metadata": {
            "tags": null
          },
          "name": "stdout",
          "output_type": "stream",
          "text": [
            "Epoch 6/25: Train loss: 0.7878, Train acc: 84.99, Val loss: 1.1119, Val acc: 35.30\n"
          ]
        },
        {
          "metadata": {
            "tags": null
          },
          "name": "stderr",
          "output_type": "stream",
          "text": [
            "\r 28%|██▊       | 7/25 [02:37<06:43, 22.39s/it]"
          ]
        },
        {
          "metadata": {
            "tags": null
          },
          "name": "stdout",
          "output_type": "stream",
          "text": [
            "Epoch 7/25: Train loss: 0.7595, Train acc: 87.19, Val loss: 1.1112, Val acc: 36.50\n"
          ]
        },
        {
          "metadata": {
            "tags": null
          },
          "name": "stderr",
          "output_type": "stream",
          "text": [
            "\r 32%|███▏      | 8/25 [02:59<06:20, 22.38s/it]"
          ]
        },
        {
          "metadata": {
            "tags": null
          },
          "name": "stdout",
          "output_type": "stream",
          "text": [
            "Epoch 8/25: Train loss: 0.7344, Train acc: 89.37, Val loss: 1.1125, Val acc: 35.90\n"
          ]
        },
        {
          "metadata": {
            "tags": null
          },
          "name": "stderr",
          "output_type": "stream",
          "text": [
            "\r 36%|███▌      | 9/25 [03:22<05:57, 22.35s/it]"
          ]
        },
        {
          "metadata": {
            "tags": null
          },
          "name": "stdout",
          "output_type": "stream",
          "text": [
            "Epoch 9/25: Train loss: 0.7150, Train acc: 91.36, Val loss: 1.1151, Val acc: 35.95\n"
          ]
        },
        {
          "metadata": {
            "tags": null
          },
          "name": "stderr",
          "output_type": "stream",
          "text": [
            "\r 40%|████      | 10/25 [03:44<05:34, 22.33s/it]"
          ]
        },
        {
          "metadata": {
            "tags": null
          },
          "name": "stdout",
          "output_type": "stream",
          "text": [
            "Epoch 10/25: Train loss: 0.6967, Train acc: 92.57, Val loss: 1.1160, Val acc: 35.75\n"
          ]
        },
        {
          "metadata": {
            "tags": null
          },
          "name": "stderr",
          "output_type": "stream",
          "text": [
            "\r 44%|████▍     | 11/25 [04:06<05:12, 22.31s/it]"
          ]
        },
        {
          "metadata": {
            "tags": null
          },
          "name": "stdout",
          "output_type": "stream",
          "text": [
            "Epoch 11/25: Train loss: 0.6833, Train acc: 93.85, Val loss: 1.1192, Val acc: 35.65\n"
          ]
        },
        {
          "metadata": {
            "tags": null
          },
          "name": "stderr",
          "output_type": "stream",
          "text": [
            "\r 48%|████▊     | 12/25 [04:29<04:50, 22.31s/it]"
          ]
        },
        {
          "metadata": {
            "tags": null
          },
          "name": "stdout",
          "output_type": "stream",
          "text": [
            "Epoch 12/25: Train loss: 0.6711, Train acc: 94.36, Val loss: 1.1184, Val acc: 36.30\n"
          ]
        },
        {
          "metadata": {
            "tags": null
          },
          "name": "stderr",
          "output_type": "stream",
          "text": [
            "\r 52%|█████▏    | 13/25 [04:51<04:27, 22.31s/it]"
          ]
        },
        {
          "metadata": {
            "tags": null
          },
          "name": "stdout",
          "output_type": "stream",
          "text": [
            "Epoch 13/25: Train loss: 0.6595, Train acc: 95.29, Val loss: 1.1193, Val acc: 35.95\n"
          ]
        },
        {
          "metadata": {
            "tags": null
          },
          "name": "stderr",
          "output_type": "stream",
          "text": [
            "\r 56%|█████▌    | 14/25 [05:13<04:05, 22.31s/it]"
          ]
        },
        {
          "metadata": {
            "tags": null
          },
          "name": "stdout",
          "output_type": "stream",
          "text": [
            "Epoch 14/25: Train loss: 0.6487, Train acc: 95.84, Val loss: 1.1208, Val acc: 35.50\n"
          ]
        },
        {
          "metadata": {
            "tags": null
          },
          "name": "stderr",
          "output_type": "stream",
          "text": [
            "\r 60%|██████    | 15/25 [05:36<03:43, 22.31s/it]"
          ]
        },
        {
          "metadata": {
            "tags": null
          },
          "name": "stdout",
          "output_type": "stream",
          "text": [
            "Epoch 15/25: Train loss: 0.6423, Train acc: 96.49, Val loss: 1.1212, Val acc: 36.10\n"
          ]
        },
        {
          "metadata": {
            "tags": null
          },
          "name": "stderr",
          "output_type": "stream",
          "text": [
            "\r 64%|██████▍   | 16/25 [05:58<03:20, 22.31s/it]"
          ]
        },
        {
          "metadata": {
            "tags": null
          },
          "name": "stdout",
          "output_type": "stream",
          "text": [
            "Epoch 16/25: Train loss: 0.6346, Train acc: 96.61, Val loss: 1.1232, Val acc: 35.75\n"
          ]
        },
        {
          "metadata": {
            "tags": null
          },
          "name": "stderr",
          "output_type": "stream",
          "text": [
            "\r 68%|██████▊   | 17/25 [06:20<02:58, 22.30s/it]"
          ]
        },
        {
          "metadata": {
            "tags": null
          },
          "name": "stdout",
          "output_type": "stream",
          "text": [
            "Epoch 17/25: Train loss: 0.6277, Train acc: 97.21, Val loss: 1.1244, Val acc: 35.80\n"
          ]
        },
        {
          "metadata": {
            "tags": null
          },
          "name": "stderr",
          "output_type": "stream",
          "text": [
            "\r 72%|███████▏  | 18/25 [06:42<02:35, 22.28s/it]"
          ]
        },
        {
          "metadata": {
            "tags": null
          },
          "name": "stdout",
          "output_type": "stream",
          "text": [
            "Epoch 18/25: Train loss: 0.6244, Train acc: 97.40, Val loss: 1.1240, Val acc: 36.05\n"
          ]
        },
        {
          "metadata": {
            "tags": null
          },
          "name": "stderr",
          "output_type": "stream",
          "text": [
            "\r 76%|███████▌  | 19/25 [07:05<02:13, 22.27s/it]"
          ]
        },
        {
          "metadata": {
            "tags": null
          },
          "name": "stdout",
          "output_type": "stream",
          "text": [
            "Epoch 19/25: Train loss: 0.6179, Train acc: 97.68, Val loss: 1.1236, Val acc: 36.20\n"
          ]
        },
        {
          "metadata": {
            "tags": null
          },
          "name": "stderr",
          "output_type": "stream",
          "text": [
            "\r 80%|████████  | 20/25 [07:27<01:51, 22.26s/it]"
          ]
        },
        {
          "metadata": {
            "tags": null
          },
          "name": "stdout",
          "output_type": "stream",
          "text": [
            "Epoch 20/25: Train loss: 0.6136, Train acc: 97.88, Val loss: 1.1245, Val acc: 35.85\n"
          ]
        },
        {
          "output_type": "stream",
          "name": "stderr",
          "text": [
            "\r 84%|████████▍ | 21/25 [07:49<01:28, 22.25s/it]"
          ]
        },
        {
          "output_type": "stream",
          "name": "stdout",
          "text": [
            "Epoch 21/25: Train loss: 0.6104, Train acc: 97.95, Val loss: 1.1242, Val acc: 36.40\n"
          ]
        },
        {
          "output_type": "stream",
          "name": "stderr",
          "text": [
            "\r 88%|████████▊ | 22/25 [08:11<01:06, 22.24s/it]"
          ]
        },
        {
          "output_type": "stream",
          "name": "stdout",
          "text": [
            "Epoch 22/25: Train loss: 0.6049, Train acc: 98.08, Val loss: 1.1279, Val acc: 35.85\n"
          ]
        },
        {
          "output_type": "stream",
          "name": "stderr",
          "text": [
            "\r 92%|█████████▏| 23/25 [08:34<00:44, 22.23s/it]"
          ]
        },
        {
          "output_type": "stream",
          "name": "stdout",
          "text": [
            "Epoch 23/25: Train loss: 0.6034, Train acc: 98.32, Val loss: 1.1278, Val acc: 35.80\n"
          ]
        },
        {
          "output_type": "stream",
          "name": "stderr",
          "text": [
            "\r 96%|█████████▌| 24/25 [08:56<00:22, 22.23s/it]"
          ]
        },
        {
          "output_type": "stream",
          "name": "stdout",
          "text": [
            "Epoch 24/25: Train loss: 0.5990, Train acc: 98.36, Val loss: 1.1275, Val acc: 35.85\n"
          ]
        },
        {
          "output_type": "stream",
          "name": "stderr",
          "text": [
            "100%|██████████| 25/25 [09:18<00:00, 22.34s/it]"
          ]
        },
        {
          "output_type": "stream",
          "name": "stdout",
          "text": [
            "Epoch 25/25: Train loss: 0.5963, Train acc: 98.65, Val loss: 1.1289, Val acc: 35.85\n"
          ]
        },
        {
          "output_type": "stream",
          "name": "stderr",
          "text": [
            "\n"
          ]
        },
        {
          "output_type": "stream",
          "name": "stdout",
          "text": [
            "Test loss: 1.1197, Test accuracy: 194/500 (38.80%)\n",
            "Max val score: 36.50%\n"
          ]
        },
        {
          "output_type": "display_data",
          "data": {
            "text/plain": [
              "<Figure size 640x480 with 1 Axes>"
            ],
            "image/png": "[encoded data removed]"
          },
          "metadata": {}
        }
      ],
      "source": [
        "modelAda.to(device)\n",
        "optimizerAdagrad = torch.optim.Adagrad(modelAda.parameters(), lr=0.001)\n",
        "train_losses, train_accuracies, val_losses, val_accuracies = train(modelAda, train_loader, val_loader, optimizerAdagrad, criterion, n_epochs=25, device=device)\n",
        "test(modelAda, test_loader, device=device)\n",
        "plot_learning_curves(train_losses, train_accuracies, val_losses, val_accuracies)"
      ],
      "id": "NKoSTxI0pP4n"
    },
    {
      "cell_type": "code",
      "source": [
        "# Define new model to prevent ablation study to avoid messing with other results\n",
        "\n",
        "modelRMS = nn.Sequential(\n",
        "    \n",
        "    #block 1\n",
        "\n",
        "    nn.Conv2d(in_channels=1, out_channels=16, kernel_size=3, padding=1),\n",
        "    nn.BatchNorm2d(16),\n",
        "    nn.ReLU(),\n",
        "    nn.Conv2d(in_channels=16, out_channels=16, kernel_size=3, padding=1),\n",
        "    nn.BatchNorm2d(16),\n",
        "    nn.ReLU(),\n",
        "    nn.Conv2d(in_channels=16, out_channels=32, kernel_size=3, padding=1),\n",
        "    nn.BatchNorm2d(32),\n",
        "    nn.ReLU(),\n",
        "\n",
        "    #block 2\n",
        "\n",
        "    sc.Slice(rotation=4, reflection=False),\n",
        "    sc.SymmetryConv2d(32, 32, 4, stride=1, rotation=4, reflection=False),\n",
        "    sc.SymmetryPool(),\n",
        "    nn.BatchNorm2d(32),\n",
        "    nn.MaxPool2d(kernel_size=2, stride=2),\n",
        "\n",
        "    #block 3\n",
        "\n",
        "    sc.Slice(rotation=1, reflection=False),\n",
        "    sc.SymmetryConv2d(32, 64, 3, stride=1, rotation=1, reflection=False),\n",
        "    sc.SymmetryPool(),\n",
        "    nn.BatchNorm2d(64),\n",
        "    nn.MaxPool2d(kernel_size=2, stride=2),\n",
        "\n",
        "    #block 4\n",
        "\n",
        "    sc.Slice(rotation=4, reflection=False),\n",
        "    sc.SymmetryConv2d(64, 128, 8, stride=1, rotation=4, reflection=False),\n",
        "    sc.SymmetryPool(),\n",
        "    nn.BatchNorm2d(128),\n",
        "    nn.MaxPool2d(kernel_size=2, stride=2),\n",
        "\n",
        "    #block 5\n",
        "\n",
        "    Lambda(lambda x: x.view(x.size(0),-1)),\n",
        "    nn.Linear(2688 , 1024),\n",
        "    nn.BatchNorm1d(1024),\n",
        "    nn.ReLU(),\n",
        "    nn.Dropout(0.5),\n",
        "    nn.Linear(1024, num_classes),\n",
        "    nn.Softmax(dim=1)\n",
        "\n",
        ")      "
      ],
      "metadata": {
        "id": "C6QOj9Iuqrf8"
      },
      "id": "C6QOj9Iuqrf8",
      "execution_count": 28,
      "outputs": []
    },
    {
      "cell_type": "code",
      "execution_count": 29,
      "metadata": {
        "id": "qVVzCutfpxhQ",
        "colab": {
          "base_uri": "https://localhost:8080/",
          "height": 935
        },
        "outputId": "7241a2c8-ac85-4c9e-aea8-2525f89b6f63"
      },
      "outputs": [
        {
          "output_type": "stream",
          "name": "stderr",
          "text": [
            "  4%|▍         | 1/25 [00:22<08:52, 22.17s/it]"
          ]
        },
        {
          "output_type": "stream",
          "name": "stdout",
          "text": [
            "Epoch 1/25: Train loss: 1.0209, Train acc: 49.07, Val loss: 0.9146, Val acc: 62.05\n"
          ]
        },
        {
          "output_type": "stream",
          "name": "stderr",
          "text": [
            "\r  8%|▊         | 2/25 [00:44<08:30, 22.19s/it]"
          ]
        },
        {
          "output_type": "stream",
          "name": "stdout",
          "text": [
            "Epoch 2/25: Train loss: 0.8096, Train acc: 73.61, Val loss: 0.8381, Val acc: 69.20\n"
          ]
        },
        {
          "output_type": "stream",
          "name": "stderr",
          "text": [
            "\r 12%|█▏        | 3/25 [01:06<08:08, 22.20s/it]"
          ]
        },
        {
          "output_type": "stream",
          "name": "stdout",
          "text": [
            "Epoch 3/25: Train loss: 0.7377, Train acc: 81.05, Val loss: 0.7396, Val acc: 80.10\n"
          ]
        },
        {
          "output_type": "stream",
          "name": "stderr",
          "text": [
            "\r 16%|█▌        | 4/25 [01:28<07:46, 22.21s/it]"
          ]
        },
        {
          "output_type": "stream",
          "name": "stdout",
          "text": [
            "Epoch 4/25: Train loss: 0.6847, Train acc: 86.49, Val loss: 0.7477, Val acc: 79.40\n"
          ]
        },
        {
          "output_type": "stream",
          "name": "stderr",
          "text": [
            "\r 20%|██        | 5/25 [01:51<07:24, 22.22s/it]"
          ]
        },
        {
          "output_type": "stream",
          "name": "stdout",
          "text": [
            "Epoch 5/25: Train loss: 0.6653, Train acc: 88.52, Val loss: 0.6854, Val acc: 86.85\n"
          ]
        },
        {
          "output_type": "stream",
          "name": "stderr",
          "text": [
            "\r 24%|██▍       | 6/25 [02:13<07:02, 22.22s/it]"
          ]
        },
        {
          "output_type": "stream",
          "name": "stdout",
          "text": [
            "Epoch 6/25: Train loss: 0.6473, Train acc: 90.43, Val loss: 0.8021, Val acc: 74.30\n"
          ]
        },
        {
          "output_type": "stream",
          "name": "stderr",
          "text": [
            "\r 28%|██▊       | 7/25 [02:35<06:39, 22.22s/it]"
          ]
        },
        {
          "output_type": "stream",
          "name": "stdout",
          "text": [
            "Epoch 7/25: Train loss: 0.6282, Train acc: 92.32, Val loss: 0.6668, Val acc: 88.05\n"
          ]
        },
        {
          "output_type": "stream",
          "name": "stderr",
          "text": [
            "\r 32%|███▏      | 8/25 [02:57<06:17, 22.22s/it]"
          ]
        },
        {
          "output_type": "stream",
          "name": "stdout",
          "text": [
            "Epoch 8/25: Train loss: 0.6211, Train acc: 93.00, Val loss: 0.6697, Val acc: 87.90\n"
          ]
        },
        {
          "output_type": "stream",
          "name": "stderr",
          "text": [
            "\r 36%|███▌      | 9/25 [03:19<05:55, 22.21s/it]"
          ]
        },
        {
          "output_type": "stream",
          "name": "stdout",
          "text": [
            "Epoch 9/25: Train loss: 0.6138, Train acc: 93.73, Val loss: 0.6664, Val acc: 88.15\n"
          ]
        },
        {
          "output_type": "stream",
          "name": "stderr",
          "text": [
            "\r 40%|████      | 10/25 [03:42<05:32, 22.20s/it]"
          ]
        },
        {
          "output_type": "stream",
          "name": "stdout",
          "text": [
            "Epoch 10/25: Train loss: 0.6004, Train acc: 95.03, Val loss: 0.6694, Val acc: 87.60\n"
          ]
        },
        {
          "output_type": "stream",
          "name": "stderr",
          "text": [
            "\r 44%|████▍     | 11/25 [04:04<05:10, 22.20s/it]"
          ]
        },
        {
          "output_type": "stream",
          "name": "stdout",
          "text": [
            "Epoch 11/25: Train loss: 0.5990, Train acc: 95.20, Val loss: 0.6705, Val acc: 87.55\n"
          ]
        },
        {
          "output_type": "stream",
          "name": "stderr",
          "text": [
            "\r 48%|████▊     | 12/25 [04:26<04:48, 22.19s/it]"
          ]
        },
        {
          "output_type": "stream",
          "name": "stdout",
          "text": [
            "Epoch 12/25: Train loss: 0.5990, Train acc: 95.25, Val loss: 0.6715, Val acc: 87.35\n"
          ]
        },
        {
          "output_type": "stream",
          "name": "stderr",
          "text": [
            "\r 52%|█████▏    | 13/25 [04:48<04:26, 22.19s/it]"
          ]
        },
        {
          "output_type": "stream",
          "name": "stdout",
          "text": [
            "Epoch 13/25: Train loss: 0.5906, Train acc: 96.07, Val loss: 0.6350, Val acc: 90.90\n"
          ]
        },
        {
          "output_type": "stream",
          "name": "stderr",
          "text": [
            "\r 56%|█████▌    | 14/25 [05:10<04:04, 22.19s/it]"
          ]
        },
        {
          "output_type": "stream",
          "name": "stdout",
          "text": [
            "Epoch 14/25: Train loss: 0.5904, Train acc: 95.95, Val loss: 0.6624, Val acc: 88.65\n"
          ]
        },
        {
          "output_type": "stream",
          "name": "stderr",
          "text": [
            "\r 60%|██████    | 15/25 [05:33<03:42, 22.20s/it]"
          ]
        },
        {
          "output_type": "stream",
          "name": "stdout",
          "text": [
            "Epoch 15/25: Train loss: 0.5897, Train acc: 96.07, Val loss: 0.6506, Val acc: 89.75\n"
          ]
        },
        {
          "output_type": "stream",
          "name": "stderr",
          "text": [
            "\r 64%|██████▍   | 16/25 [05:55<03:19, 22.21s/it]"
          ]
        },
        {
          "output_type": "stream",
          "name": "stdout",
          "text": [
            "Epoch 16/25: Train loss: 0.5828, Train acc: 96.89, Val loss: 0.6544, Val acc: 89.55\n"
          ]
        },
        {
          "output_type": "stream",
          "name": "stderr",
          "text": [
            "\r 68%|██████▊   | 17/25 [06:17<02:57, 22.21s/it]"
          ]
        },
        {
          "output_type": "stream",
          "name": "stdout",
          "text": [
            "Epoch 17/25: Train loss: 0.5808, Train acc: 97.01, Val loss: 0.6445, Val acc: 90.45\n"
          ]
        },
        {
          "output_type": "stream",
          "name": "stderr",
          "text": [
            "\r 72%|███████▏  | 18/25 [06:39<02:35, 22.22s/it]"
          ]
        },
        {
          "output_type": "stream",
          "name": "stdout",
          "text": [
            "Epoch 18/25: Train loss: 0.5783, Train acc: 97.24, Val loss: 0.6338, Val acc: 91.45\n"
          ]
        },
        {
          "output_type": "stream",
          "name": "stderr",
          "text": [
            "\r 76%|███████▌  | 19/25 [07:01<02:13, 22.21s/it]"
          ]
        },
        {
          "output_type": "stream",
          "name": "stdout",
          "text": [
            "Epoch 19/25: Train loss: 0.5783, Train acc: 97.35, Val loss: 0.6422, Val acc: 90.60\n"
          ]
        },
        {
          "output_type": "stream",
          "name": "stderr",
          "text": [
            "\r 80%|████████  | 20/25 [07:24<01:51, 22.21s/it]"
          ]
        },
        {
          "output_type": "stream",
          "name": "stdout",
          "text": [
            "Epoch 20/25: Train loss: 0.5751, Train acc: 97.52, Val loss: 0.6361, Val acc: 91.15\n"
          ]
        },
        {
          "output_type": "stream",
          "name": "stderr",
          "text": [
            "\r 84%|████████▍ | 21/25 [07:46<01:28, 22.21s/it]"
          ]
        },
        {
          "output_type": "stream",
          "name": "stdout",
          "text": [
            "Epoch 21/25: Train loss: 0.5786, Train acc: 97.28, Val loss: 0.6415, Val acc: 90.60\n"
          ]
        },
        {
          "output_type": "stream",
          "name": "stderr",
          "text": [
            "\r 88%|████████▊ | 22/25 [08:08<01:06, 22.21s/it]"
          ]
        },
        {
          "output_type": "stream",
          "name": "stdout",
          "text": [
            "Epoch 22/25: Train loss: 0.5743, Train acc: 97.69, Val loss: 0.6567, Val acc: 89.10\n"
          ]
        },
        {
          "output_type": "stream",
          "name": "stderr",
          "text": [
            "\r 92%|█████████▏| 23/25 [08:30<00:44, 22.21s/it]"
          ]
        },
        {
          "output_type": "stream",
          "name": "stdout",
          "text": [
            "Epoch 23/25: Train loss: 0.5704, Train acc: 98.08, Val loss: 0.6362, Val acc: 91.15\n"
          ]
        },
        {
          "output_type": "stream",
          "name": "stderr",
          "text": [
            "\r 96%|█████████▌| 24/25 [08:52<00:22, 22.21s/it]"
          ]
        },
        {
          "output_type": "stream",
          "name": "stdout",
          "text": [
            "Epoch 24/25: Train loss: 0.5692, Train acc: 98.25, Val loss: 0.6264, Val acc: 91.85\n"
          ]
        },
        {
          "output_type": "stream",
          "name": "stderr",
          "text": [
            "100%|██████████| 25/25 [09:15<00:00, 22.21s/it]"
          ]
        },
        {
          "output_type": "stream",
          "name": "stdout",
          "text": [
            "Epoch 25/25: Train loss: 0.5709, Train acc: 98.05, Val loss: 0.6688, Val acc: 87.85\n"
          ]
        },
        {
          "output_type": "stream",
          "name": "stderr",
          "text": [
            "\n"
          ]
        },
        {
          "output_type": "stream",
          "name": "stdout",
          "text": [
            "Test loss: 0.6611, Test accuracy: 444/500 (88.80%)\n",
            "Max val score: 91.85%\n"
          ]
        },
        {
          "output_type": "display_data",
          "data": {
            "text/plain": [
              "<Figure size 640x480 with 1 Axes>"
            ],
            "image/png": "[encoded data removed]"
          },
          "metadata": {}
        }
      ],
      "source": [
        "modelRMS.to(device)\n",
        "optimizerRMS = torch.optim.RMSprop(modelRMS.parameters(), lr=0.001)\n",
        "train_losses, train_accuracies, val_losses, val_accuracies = train(modelRMS, train_loader, val_loader, optimizerRMS, criterion, n_epochs=25, device=device)\n",
        "test(modelRMS, test_loader, device=device)\n",
        "plot_learning_curves(train_losses, train_accuracies, val_losses, val_accuracies)"
      ],
      "id": "qVVzCutfpxhQ"
    },
    {
      "cell_type": "markdown",
      "metadata": {
        "id": "BAKrpRTVqqWg"
      },
      "source": [
        "### Changing train size"
      ],
      "id": "BAKrpRTVqqWg"
    },
    {
      "cell_type": "code",
      "execution_count": 31,
      "metadata": {
        "id": "RmClYh8Pq506"
      },
      "outputs": [],
      "source": [
        "X = torch.tensor(task1['arr_0']).float()\n",
        "y = torch.tensor(task1['arr_1']).float()"
      ],
      "id": "RmClYh8Pq506"
    },
    {
      "cell_type": "code",
      "source": [
        "# Define new model to prevent ablation study to avoid messing with other results\n",
        "\n",
        "modelLess = nn.Sequential(\n",
        "    \n",
        "    #block 1\n",
        "\n",
        "    nn.Conv2d(in_channels=1, out_channels=16, kernel_size=3, padding=1),\n",
        "    nn.BatchNorm2d(16),\n",
        "    nn.ReLU(),\n",
        "    nn.Conv2d(in_channels=16, out_channels=16, kernel_size=3, padding=1),\n",
        "    nn.BatchNorm2d(16),\n",
        "    nn.ReLU(),\n",
        "    nn.Conv2d(in_channels=16, out_channels=32, kernel_size=3, padding=1),\n",
        "    nn.BatchNorm2d(32),\n",
        "    nn.ReLU(),\n",
        "\n",
        "    #block 2\n",
        "\n",
        "    sc.Slice(rotation=4, reflection=False),\n",
        "    sc.SymmetryConv2d(32, 32, 4, stride=1, rotation=4, reflection=False),\n",
        "    sc.SymmetryPool(),\n",
        "    nn.BatchNorm2d(32),\n",
        "    nn.MaxPool2d(kernel_size=2, stride=2),\n",
        "\n",
        "    #block 3\n",
        "\n",
        "    sc.Slice(rotation=1, reflection=False),\n",
        "    sc.SymmetryConv2d(32, 64, 3, stride=1, rotation=1, reflection=False),\n",
        "    sc.SymmetryPool(),\n",
        "    nn.BatchNorm2d(64),\n",
        "    nn.MaxPool2d(kernel_size=2, stride=2),\n",
        "\n",
        "    #block 4\n",
        "\n",
        "    sc.Slice(rotation=4, reflection=False),\n",
        "    sc.SymmetryConv2d(64, 128, 8, stride=1, rotation=4, reflection=False),\n",
        "    sc.SymmetryPool(),\n",
        "    nn.BatchNorm2d(128),\n",
        "    nn.MaxPool2d(kernel_size=2, stride=2),\n",
        "\n",
        "    #block 5\n",
        "\n",
        "    Lambda(lambda x: x.view(x.size(0),-1)),\n",
        "    nn.Linear(2688 , 1024),\n",
        "    nn.BatchNorm1d(1024),\n",
        "    nn.ReLU(),\n",
        "    nn.Dropout(0.5),\n",
        "    nn.Linear(1024, num_classes),\n",
        "    nn.Softmax(dim=1)\n",
        "\n",
        ")      "
      ],
      "metadata": {
        "id": "fUur5IJwqxy7"
      },
      "id": "fUur5IJwqxy7",
      "execution_count": 32,
      "outputs": []
    },
    {
      "cell_type": "code",
      "execution_count": 33,
      "metadata": {
        "id": "I3BdeVnhqtYL",
        "colab": {
          "base_uri": "https://localhost:8080/",
          "height": 935
        },
        "outputId": "2c363f39-96bd-45ab-ce77-51d0b0bbd865"
      },
      "outputs": [
        {
          "output_type": "stream",
          "name": "stderr",
          "text": [
            "  4%|▍         | 1/25 [00:16<06:39, 16.63s/it]"
          ]
        },
        {
          "output_type": "stream",
          "name": "stdout",
          "text": [
            "Epoch 1/25: Train loss: 1.1039, Train acc: 37.32, Val loss: 1.0498, Val acc: 46.56\n"
          ]
        },
        {
          "output_type": "stream",
          "name": "stderr",
          "text": [
            "\r  8%|▊         | 2/25 [00:33<06:24, 16.73s/it]"
          ]
        },
        {
          "output_type": "stream",
          "name": "stdout",
          "text": [
            "Epoch 2/25: Train loss: 0.9437, Train acc: 58.68, Val loss: 0.9367, Val acc: 58.47\n"
          ]
        },
        {
          "output_type": "stream",
          "name": "stderr",
          "text": [
            "\r 12%|█▏        | 3/25 [00:50<06:10, 16.85s/it]"
          ]
        },
        {
          "output_type": "stream",
          "name": "stdout",
          "text": [
            "Epoch 3/25: Train loss: 0.8311, Train acc: 71.38, Val loss: 0.8523, Val acc: 68.51\n"
          ]
        },
        {
          "output_type": "stream",
          "name": "stderr",
          "text": [
            "\r 16%|█▌        | 4/25 [01:07<05:51, 16.76s/it]"
          ]
        },
        {
          "output_type": "stream",
          "name": "stdout",
          "text": [
            "Epoch 4/25: Train loss: 0.7535, Train acc: 79.86, Val loss: 0.8314, Val acc: 70.96\n"
          ]
        },
        {
          "output_type": "stream",
          "name": "stderr",
          "text": [
            "\r 20%|██        | 5/25 [01:23<05:33, 16.69s/it]"
          ]
        },
        {
          "output_type": "stream",
          "name": "stdout",
          "text": [
            "Epoch 5/25: Train loss: 0.7065, Train acc: 84.76, Val loss: 0.8041, Val acc: 73.58\n"
          ]
        },
        {
          "output_type": "stream",
          "name": "stderr",
          "text": [
            "\r 24%|██▍       | 6/25 [01:40<05:16, 16.66s/it]"
          ]
        },
        {
          "output_type": "stream",
          "name": "stdout",
          "text": [
            "Epoch 6/25: Train loss: 0.6677, Train acc: 89.14, Val loss: 0.7938, Val acc: 74.89\n"
          ]
        },
        {
          "output_type": "stream",
          "name": "stderr",
          "text": [
            "\r 28%|██▊       | 7/25 [01:56<04:59, 16.66s/it]"
          ]
        },
        {
          "output_type": "stream",
          "name": "stdout",
          "text": [
            "Epoch 7/25: Train loss: 0.6477, Train acc: 90.60, Val loss: 0.7513, Val acc: 79.62\n"
          ]
        },
        {
          "output_type": "stream",
          "name": "stderr",
          "text": [
            "\r 32%|███▏      | 8/25 [02:13<04:43, 16.67s/it]"
          ]
        },
        {
          "output_type": "stream",
          "name": "stdout",
          "text": [
            "Epoch 8/25: Train loss: 0.6394, Train acc: 91.22, Val loss: 0.7824, Val acc: 76.07\n"
          ]
        },
        {
          "output_type": "stream",
          "name": "stderr",
          "text": [
            "\r 36%|███▌      | 9/25 [02:30<04:26, 16.67s/it]"
          ]
        },
        {
          "output_type": "stream",
          "name": "stdout",
          "text": [
            "Epoch 9/25: Train loss: 0.6230, Train acc: 92.82, Val loss: 0.7838, Val acc: 75.44\n"
          ]
        },
        {
          "output_type": "stream",
          "name": "stderr",
          "text": [
            "\r 40%|████      | 10/25 [02:46<04:09, 16.65s/it]"
          ]
        },
        {
          "output_type": "stream",
          "name": "stdout",
          "text": [
            "Epoch 10/25: Train loss: 0.6101, Train acc: 94.44, Val loss: 0.7671, Val acc: 77.67\n"
          ]
        },
        {
          "output_type": "stream",
          "name": "stderr",
          "text": [
            "\r 44%|████▍     | 11/25 [03:03<03:52, 16.64s/it]"
          ]
        },
        {
          "output_type": "stream",
          "name": "stdout",
          "text": [
            "Epoch 11/25: Train loss: 0.6091, Train acc: 94.22, Val loss: 0.7567, Val acc: 78.53\n"
          ]
        },
        {
          "output_type": "stream",
          "name": "stderr",
          "text": [
            "\r 48%|████▊     | 12/25 [03:20<03:36, 16.64s/it]"
          ]
        },
        {
          "output_type": "stream",
          "name": "stdout",
          "text": [
            "Epoch 12/25: Train loss: 0.5966, Train acc: 95.62, Val loss: 0.7351, Val acc: 81.04\n"
          ]
        },
        {
          "output_type": "stream",
          "name": "stderr",
          "text": [
            "\r 52%|█████▏    | 13/25 [03:36<03:19, 16.65s/it]"
          ]
        },
        {
          "output_type": "stream",
          "name": "stdout",
          "text": [
            "Epoch 13/25: Train loss: 0.5917, Train acc: 96.12, Val loss: 0.7435, Val acc: 80.13\n"
          ]
        },
        {
          "output_type": "stream",
          "name": "stderr",
          "text": [
            "\r 56%|█████▌    | 14/25 [03:53<03:03, 16.64s/it]"
          ]
        },
        {
          "output_type": "stream",
          "name": "stdout",
          "text": [
            "Epoch 14/25: Train loss: 0.5864, Train acc: 96.78, Val loss: 0.7281, Val acc: 81.31\n"
          ]
        },
        {
          "output_type": "stream",
          "name": "stderr",
          "text": [
            "\r 60%|██████    | 15/25 [04:10<02:46, 16.65s/it]"
          ]
        },
        {
          "output_type": "stream",
          "name": "stdout",
          "text": [
            "Epoch 15/25: Train loss: 0.5936, Train acc: 95.82, Val loss: 0.7488, Val acc: 79.42\n"
          ]
        },
        {
          "output_type": "stream",
          "name": "stderr",
          "text": [
            "\r 64%|██████▍   | 16/25 [04:26<02:29, 16.65s/it]"
          ]
        },
        {
          "output_type": "stream",
          "name": "stdout",
          "text": [
            "Epoch 16/25: Train loss: 0.5840, Train acc: 96.94, Val loss: 0.7387, Val acc: 80.51\n"
          ]
        },
        {
          "output_type": "stream",
          "name": "stderr",
          "text": [
            "\r 68%|██████▊   | 17/25 [04:43<02:13, 16.66s/it]"
          ]
        },
        {
          "output_type": "stream",
          "name": "stdout",
          "text": [
            "Epoch 17/25: Train loss: 0.5777, Train acc: 97.56, Val loss: 0.7367, Val acc: 80.98\n"
          ]
        },
        {
          "output_type": "stream",
          "name": "stderr",
          "text": [
            "\r 72%|███████▏  | 18/25 [05:00<01:56, 16.66s/it]"
          ]
        },
        {
          "output_type": "stream",
          "name": "stdout",
          "text": [
            "Epoch 18/25: Train loss: 0.5766, Train acc: 97.60, Val loss: 0.7566, Val acc: 78.62\n"
          ]
        },
        {
          "output_type": "stream",
          "name": "stderr",
          "text": [
            "\r 76%|███████▌  | 19/25 [05:16<01:39, 16.66s/it]"
          ]
        },
        {
          "output_type": "stream",
          "name": "stdout",
          "text": [
            "Epoch 19/25: Train loss: 0.5806, Train acc: 97.12, Val loss: 0.7539, Val acc: 79.02\n"
          ]
        },
        {
          "output_type": "stream",
          "name": "stderr",
          "text": [
            "\r 80%|████████  | 20/25 [05:33<01:23, 16.65s/it]"
          ]
        },
        {
          "output_type": "stream",
          "name": "stdout",
          "text": [
            "Epoch 20/25: Train loss: 0.5837, Train acc: 96.72, Val loss: 0.7369, Val acc: 80.84\n"
          ]
        },
        {
          "output_type": "stream",
          "name": "stderr",
          "text": [
            "\r 84%|████████▍ | 21/25 [05:50<01:06, 16.66s/it]"
          ]
        },
        {
          "output_type": "stream",
          "name": "stdout",
          "text": [
            "Epoch 21/25: Train loss: 0.5797, Train acc: 97.30, Val loss: 0.7283, Val acc: 81.56\n"
          ]
        },
        {
          "output_type": "stream",
          "name": "stderr",
          "text": [
            "\r 88%|████████▊ | 22/25 [06:06<00:49, 16.66s/it]"
          ]
        },
        {
          "output_type": "stream",
          "name": "stdout",
          "text": [
            "Epoch 22/25: Train loss: 0.5774, Train acc: 97.48, Val loss: 0.7420, Val acc: 80.33\n"
          ]
        },
        {
          "output_type": "stream",
          "name": "stderr",
          "text": [
            "\r 92%|█████████▏| 23/25 [06:23<00:33, 16.65s/it]"
          ]
        },
        {
          "output_type": "stream",
          "name": "stdout",
          "text": [
            "Epoch 23/25: Train loss: 0.5736, Train acc: 97.78, Val loss: 0.7230, Val acc: 82.04\n"
          ]
        },
        {
          "output_type": "stream",
          "name": "stderr",
          "text": [
            "\r 96%|█████████▌| 24/25 [06:39<00:16, 16.65s/it]"
          ]
        },
        {
          "output_type": "stream",
          "name": "stdout",
          "text": [
            "Epoch 24/25: Train loss: 0.5706, Train acc: 98.14, Val loss: 0.7226, Val acc: 82.69\n"
          ]
        },
        {
          "output_type": "stream",
          "name": "stderr",
          "text": [
            "100%|██████████| 25/25 [06:56<00:00, 16.66s/it]"
          ]
        },
        {
          "output_type": "stream",
          "name": "stdout",
          "text": [
            "Epoch 25/25: Train loss: 0.5690, Train acc: 98.26, Val loss: 0.7388, Val acc: 80.73\n"
          ]
        },
        {
          "output_type": "stream",
          "name": "stderr",
          "text": [
            "\n"
          ]
        },
        {
          "output_type": "stream",
          "name": "stdout",
          "text": [
            "Test loss: 0.7697, Test accuracy: 386/500 (77.20%)\n",
            "Max val score: 82.69%\n"
          ]
        },
        {
          "output_type": "display_data",
          "data": {
            "text/plain": [
              "<Figure size 640x480 with 1 Axes>"
            ],
            "image/png": "[encoded data removed]"
          },
          "metadata": {}
        }
      ],
      "source": [
        "# Less training\n",
        "X_train = X[:5000]\n",
        "X_val = X[5000:9500]\n",
        "X_test = X[9500:]\n",
        "y_train = y[:5000]\n",
        "y_val = y[5000:9500]\n",
        "y_test  = y[9500:]\n",
        "\n",
        "train_dataset = TensorDataset(X_train, y_train)\n",
        "val_dataset = TensorDataset(X_val, y_val)\n",
        "test_dataset = TensorDataset(X_test, y_test)\n",
        "\n",
        "train_loader = DataLoader(train_dataset, batch_size=32, shuffle=True)\n",
        "val_loader = DataLoader(val_dataset, batch_size=32, shuffle=True)\n",
        "test_loader = DataLoader(test_dataset, batch_size=32, shuffle=True)\n",
        "\n",
        "modelLess.to(device)\n",
        "optimizer = torch.optim.Adam(modelLess.parameters(), lr=0.001)\n",
        "train_losses, train_accuracies, val_losses, val_accuracies = train(modelLess, train_loader, val_loader, optimizer, criterion, n_epochs=25, device=device)\n",
        "test(modelLess, test_loader, device=device)\n",
        "plot_learning_curves(train_losses, train_accuracies, val_losses, val_accuracies)"
      ],
      "id": "I3BdeVnhqtYL"
    },
    {
      "cell_type": "code",
      "source": [
        "# Define new model to prevent ablation study to avoid messing with other results\n",
        "\n",
        "modelMore = nn.Sequential(\n",
        "    \n",
        "    #block 1\n",
        "\n",
        "    nn.Conv2d(in_channels=1, out_channels=16, kernel_size=3, padding=1),\n",
        "    nn.BatchNorm2d(16),\n",
        "    nn.ReLU(),\n",
        "    nn.Conv2d(in_channels=16, out_channels=16, kernel_size=3, padding=1),\n",
        "    nn.BatchNorm2d(16),\n",
        "    nn.ReLU(),\n",
        "    nn.Conv2d(in_channels=16, out_channels=32, kernel_size=3, padding=1),\n",
        "    nn.BatchNorm2d(32),\n",
        "    nn.ReLU(),\n",
        "\n",
        "    #block 2\n",
        "\n",
        "    sc.Slice(rotation=4, reflection=False),\n",
        "    sc.SymmetryConv2d(32, 32, 4, stride=1, rotation=4, reflection=False),\n",
        "    sc.SymmetryPool(),\n",
        "    nn.BatchNorm2d(32),\n",
        "    nn.MaxPool2d(kernel_size=2, stride=2),\n",
        "\n",
        "    #block 3\n",
        "\n",
        "    sc.Slice(rotation=1, reflection=False),\n",
        "    sc.SymmetryConv2d(32, 64, 3, stride=1, rotation=1, reflection=False),\n",
        "    sc.SymmetryPool(),\n",
        "    nn.BatchNorm2d(64),\n",
        "    nn.MaxPool2d(kernel_size=2, stride=2),\n",
        "\n",
        "    #block 4\n",
        "\n",
        "    sc.Slice(rotation=4, reflection=False),\n",
        "    sc.SymmetryConv2d(64, 128, 8, stride=1, rotation=4, reflection=False),\n",
        "    sc.SymmetryPool(),\n",
        "    nn.BatchNorm2d(128),\n",
        "    nn.MaxPool2d(kernel_size=2, stride=2),\n",
        "\n",
        "    #block 5\n",
        "\n",
        "    Lambda(lambda x: x.view(x.size(0),-1)),\n",
        "    nn.Linear(2688 , 1024),\n",
        "    nn.BatchNorm1d(1024),\n",
        "    nn.ReLU(),\n",
        "    nn.Dropout(0.5),\n",
        "    nn.Linear(1024, num_classes),\n",
        "    nn.Softmax(dim=1)\n",
        "\n",
        ") "
      ],
      "metadata": {
        "id": "VaAr4AqTrVI5"
      },
      "id": "VaAr4AqTrVI5",
      "execution_count": 34,
      "outputs": []
    },
    {
      "cell_type": "code",
      "execution_count": null,
      "metadata": {
        "id": "09ciIEgyrVcf",
        "colab": {
          "base_uri": "https://localhost:8080/"
        },
        "outputId": "82ad36eb-6e6a-4a45-f5fa-eb4852a562c8"
      },
      "outputs": [
        {
          "output_type": "stream",
          "name": "stderr",
          "text": [
            "  4%|▍         | 1/25 [00:24<09:50, 24.62s/it]"
          ]
        },
        {
          "output_type": "stream",
          "name": "stdout",
          "text": [
            "Epoch 1/25: Train loss: 1.0467, Train acc: 44.99, Val loss: 0.8895, Val acc: 65.90\n"
          ]
        },
        {
          "output_type": "stream",
          "name": "stderr",
          "text": [
            "\r  8%|▊         | 2/25 [00:49<09:26, 24.63s/it]"
          ]
        },
        {
          "output_type": "stream",
          "name": "stdout",
          "text": [
            "Epoch 2/25: Train loss: 0.8190, Train acc: 72.40, Val loss: 0.7603, Val acc: 79.40\n"
          ]
        },
        {
          "output_type": "stream",
          "name": "stderr",
          "text": [
            "\r 12%|█▏        | 3/25 [01:13<09:02, 24.64s/it]"
          ]
        },
        {
          "output_type": "stream",
          "name": "stdout",
          "text": [
            "Epoch 3/25: Train loss: 0.7249, Train acc: 82.72, Val loss: 0.7148, Val acc: 83.50\n"
          ]
        },
        {
          "output_type": "stream",
          "name": "stderr",
          "text": [
            "\r 16%|█▌        | 4/25 [01:38<08:37, 24.65s/it]"
          ]
        },
        {
          "output_type": "stream",
          "name": "stdout",
          "text": [
            "Epoch 4/25: Train loss: 0.6700, Train acc: 88.26, Val loss: 0.6703, Val acc: 88.70\n"
          ]
        },
        {
          "output_type": "stream",
          "name": "stderr",
          "text": [
            "\r 20%|██        | 5/25 [02:03<08:13, 24.65s/it]"
          ]
        },
        {
          "output_type": "stream",
          "name": "stdout",
          "text": [
            "Epoch 5/25: Train loss: 0.6404, Train acc: 91.32, Val loss: 0.6512, Val acc: 89.60\n"
          ]
        },
        {
          "output_type": "stream",
          "name": "stderr",
          "text": [
            "\r 24%|██▍       | 6/25 [02:27<07:48, 24.65s/it]"
          ]
        },
        {
          "output_type": "stream",
          "name": "stdout",
          "text": [
            "Epoch 6/25: Train loss: 0.6339, Train acc: 91.85, Val loss: 0.6769, Val acc: 87.10\n"
          ]
        },
        {
          "output_type": "stream",
          "name": "stderr",
          "text": [
            "\r 28%|██▊       | 7/25 [02:52<07:23, 24.64s/it]"
          ]
        },
        {
          "output_type": "stream",
          "name": "stdout",
          "text": [
            "Epoch 7/25: Train loss: 0.6126, Train acc: 94.12, Val loss: 0.6350, Val acc: 92.20\n"
          ]
        },
        {
          "output_type": "stream",
          "name": "stderr",
          "text": [
            "\r 32%|███▏      | 8/25 [03:17<06:58, 24.63s/it]"
          ]
        },
        {
          "output_type": "stream",
          "name": "stdout",
          "text": [
            "Epoch 8/25: Train loss: 0.6041, Train acc: 94.85, Val loss: 0.6375, Val acc: 91.00\n"
          ]
        },
        {
          "output_type": "stream",
          "name": "stderr",
          "text": [
            "\r 36%|███▌      | 9/25 [03:41<06:33, 24.62s/it]"
          ]
        },
        {
          "output_type": "stream",
          "name": "stdout",
          "text": [
            "Epoch 9/25: Train loss: 0.5951, Train acc: 95.68, Val loss: 0.6408, Val acc: 91.00\n"
          ]
        },
        {
          "output_type": "stream",
          "name": "stderr",
          "text": [
            "\r 40%|████      | 10/25 [04:06<06:09, 24.62s/it]"
          ]
        },
        {
          "output_type": "stream",
          "name": "stdout",
          "text": [
            "Epoch 10/25: Train loss: 0.5901, Train acc: 96.22, Val loss: 0.6322, Val acc: 91.90\n"
          ]
        },
        {
          "output_type": "stream",
          "name": "stderr",
          "text": [
            "\r 44%|████▍     | 11/25 [04:30<05:44, 24.61s/it]"
          ]
        },
        {
          "output_type": "stream",
          "name": "stdout",
          "text": [
            "Epoch 11/25: Train loss: 0.5932, Train acc: 95.95, Val loss: 0.6431, Val acc: 90.40\n"
          ]
        },
        {
          "output_type": "stream",
          "name": "stderr",
          "text": [
            "\r 48%|████▊     | 12/25 [04:55<05:19, 24.61s/it]"
          ]
        },
        {
          "output_type": "stream",
          "name": "stdout",
          "text": [
            "Epoch 12/25: Train loss: 0.5860, Train acc: 96.67, Val loss: 0.6165, Val acc: 93.30\n"
          ]
        },
        {
          "output_type": "stream",
          "name": "stderr",
          "text": [
            "\r 52%|█████▏    | 13/25 [05:20<04:55, 24.60s/it]"
          ]
        },
        {
          "output_type": "stream",
          "name": "stdout",
          "text": [
            "Epoch 13/25: Train loss: 0.5796, Train acc: 97.26, Val loss: 0.6296, Val acc: 91.90\n"
          ]
        },
        {
          "output_type": "stream",
          "name": "stderr",
          "text": [
            "\r 56%|█████▌    | 14/25 [05:44<04:30, 24.60s/it]"
          ]
        },
        {
          "output_type": "stream",
          "name": "stdout",
          "text": [
            "Epoch 14/25: Train loss: 0.5850, Train acc: 96.76, Val loss: 0.6165, Val acc: 93.20\n"
          ]
        },
        {
          "output_type": "stream",
          "name": "stderr",
          "text": [
            "\r 60%|██████    | 15/25 [06:09<04:05, 24.60s/it]"
          ]
        },
        {
          "output_type": "stream",
          "name": "stdout",
          "text": [
            "Epoch 15/25: Train loss: 0.5778, Train acc: 97.39, Val loss: 0.6176, Val acc: 93.80\n"
          ]
        },
        {
          "output_type": "stream",
          "name": "stderr",
          "text": [
            "\r 64%|██████▍   | 16/25 [06:33<03:41, 24.60s/it]"
          ]
        },
        {
          "output_type": "stream",
          "name": "stdout",
          "text": [
            "Epoch 16/25: Train loss: 0.5786, Train acc: 97.32, Val loss: 0.6231, Val acc: 93.10\n"
          ]
        },
        {
          "output_type": "stream",
          "name": "stderr",
          "text": [
            "\r 68%|██████▊   | 17/25 [06:58<03:16, 24.60s/it]"
          ]
        },
        {
          "output_type": "stream",
          "name": "stdout",
          "text": [
            "Epoch 17/25: Train loss: 0.5721, Train acc: 97.95, Val loss: 0.6206, Val acc: 93.10\n"
          ]
        },
        {
          "output_type": "stream",
          "name": "stderr",
          "text": [
            "\r 72%|███████▏  | 18/25 [07:23<02:52, 24.60s/it]"
          ]
        },
        {
          "output_type": "stream",
          "name": "stdout",
          "text": [
            "Epoch 18/25: Train loss: 0.5755, Train acc: 97.66, Val loss: 0.6207, Val acc: 92.40\n"
          ]
        },
        {
          "output_type": "stream",
          "name": "stderr",
          "text": [
            "\r 76%|███████▌  | 19/25 [07:47<02:27, 24.60s/it]"
          ]
        },
        {
          "output_type": "stream",
          "name": "stdout",
          "text": [
            "Epoch 19/25: Train loss: 0.5703, Train acc: 98.11, Val loss: 0.6196, Val acc: 93.40\n"
          ]
        },
        {
          "output_type": "stream",
          "name": "stderr",
          "text": [
            "\r 80%|████████  | 20/25 [08:12<02:03, 24.60s/it]"
          ]
        },
        {
          "output_type": "stream",
          "name": "stdout",
          "text": [
            "Epoch 20/25: Train loss: 0.5749, Train acc: 97.61, Val loss: 0.6206, Val acc: 93.20\n"
          ]
        }
      ],
      "source": [
        "# More training\n",
        "X_train = X[:8500]\n",
        "X_val = X[8500:9500]\n",
        "X_test = X[9500:]\n",
        "y_train = y[:8500]\n",
        "y_val = y[8500:9500]\n",
        "y_test  = y[9500:]\n",
        "\n",
        "train_dataset = TensorDataset(X_train, y_train)\n",
        "val_dataset = TensorDataset(X_val, y_val)\n",
        "test_dataset = TensorDataset(X_test, y_test)\n",
        "\n",
        "train_loader = DataLoader(train_dataset, batch_size=32, shuffle=True)\n",
        "val_loader = DataLoader(val_dataset, batch_size=32, shuffle=True)\n",
        "test_loader = DataLoader(test_dataset, batch_size=32, shuffle=True)\n",
        "\n",
        "modelMore.to(device)\n",
        "optimizer = torch.optim.Adam(modelMore.parameters(), lr=0.001)\n",
        "train_losses, train_accuracies, val_losses, val_accuracies = train(modelMore, train_loader, val_loader, optimizer, criterion, n_epochs=25, device=device)\n",
        "test(modelMore, test_loader, device=device)\n",
        "plot_learning_curves(train_losses, train_accuracies, val_losses, val_accuracies)"
      ],
      "id": "09ciIEgyrVcf"
    },
    {
      "cell_type": "markdown",
      "metadata": {
        "id": "C6A8m6NErp59"
      },
      "source": [
        "### Experimenting with more layers or less layers"
      ],
      "id": "C6A8m6NErp59"
    },
    {
      "cell_type": "code",
      "execution_count": null,
      "metadata": {
        "id": "QscQo2_6rpYj"
      },
      "outputs": [],
      "source": [
        "# Less layers\n",
        "modelLessLayers = nn.Sequential(\n",
        "    \n",
        "    #block 1\n",
        "    nn.Conv2d(in_channels=1, out_channels=32, kernel_size=3, padding=1),\n",
        "    nn.BatchNorm2d(32),\n",
        "    nn.ReLU(),\n",
        "    # nn.Conv2d(in_channels=16, out_channels=16, kernel_size=3, padding=1),\n",
        "    # nn.BatchNorm2d(16),\n",
        "    # nn.ReLU(),\n",
        "    # nn.Conv2d(in_channels=16, out_channels=32, kernel_size=3, padding=1),\n",
        "    # nn.BatchNorm2d(32),\n",
        "    # nn.ReLU(),\n",
        "\n",
        "    #block 2\n",
        "    sc.Slice(rotation=4, reflection=False),\n",
        "    sc.SymmetryConv2d(32, 32, 4, stride=1, rotation=4, reflection=False),\n",
        "    sc.SymmetryPool(),\n",
        "    nn.BatchNorm2d(32),\n",
        "    nn.MaxPool2d(kernel_size=2, stride=2),\n",
        "\n",
        "    #block 3\n",
        "    sc.Slice(rotation=1, reflection=False),\n",
        "    sc.SymmetryConv2d(32, 64, 3, stride=1, rotation=1, reflection=False),\n",
        "    sc.SymmetryPool(),\n",
        "    nn.BatchNorm2d(64),\n",
        "    nn.MaxPool2d(kernel_size=2, stride=2),\n",
        "\n",
        "    #block 4\n",
        "    sc.Slice(rotation=4, reflection=False),\n",
        "    sc.SymmetryConv2d(64, 128, 8, stride=1, rotation=4, reflection=False),\n",
        "    sc.SymmetryPool(),\n",
        "    nn.BatchNorm2d(128),\n",
        "    nn.MaxPool2d(kernel_size=2, stride=2),\n",
        "\n",
        "    #block 5\n",
        "    Lambda(lambda x: x.view(x.size(0),-1)),\n",
        "    nn.Linear(2688, num_classes),           # Changed\n",
        "    # nn.BatchNorm1d(1024),                 # Removed\n",
        "    # nn.ReLU(),                            # Removed\n",
        "    # nn.Dropout(0.5),                      # Removed\n",
        "    # nn.Linear(1024, num_classes),         # Removed\n",
        "    nn.Softmax(dim=1)\n",
        ")      \n",
        "\n",
        "modelLessLayers.to(device)\n",
        "train_losses, train_accuracies, val_losses, val_accuracies = train(modelLessLayers, train_loader, val_loader, optimizer, criterion, n_epochs=25, device=device)\n",
        "test(modelLessLayers, test_loader, device=device)\n",
        "plot_learning_curves(train_losses, train_accuracies, val_losses, val_accuracies)"
      ],
      "id": "QscQo2_6rpYj"
    },
    {
      "cell_type": "code",
      "execution_count": null,
      "metadata": {
        "id": "sLu-CZOBs3Z6"
      },
      "outputs": [],
      "source": [
        "# More layers\n",
        "modelMoreLayers = nn.Sequential(\n",
        "    \n",
        "    #block 1\n",
        "    nn.Conv2d(in_channels=1, out_channels=16, kernel_size=3, padding=1),\n",
        "    nn.BatchNorm2d(16),\n",
        "    nn.ReLU(),\n",
        "    nn.Conv2d(in_channels=16, out_channels=16, kernel_size=3, padding=1),\n",
        "    nn.BatchNorm2d(16),\n",
        "    nn.ReLU(),\n",
        "    nn.Conv2d(in_channels=16, out_channels=32, kernel_size=3, padding=1),\n",
        "    nn.BatchNorm2d(32),\n",
        "    nn.ReLU(),\n",
        "    nn.Conv2d(in_channels=32, out_channels=32, kernel_size=3, padding=1),   # Added\n",
        "    nn.BatchNorm2d(32),                                                     # Added\n",
        "    nn.ReLU(),                                                              # Added\n",
        "\n",
        "    #block 2\n",
        "\n",
        "    sc.Slice(rotation=4, reflection=False),\n",
        "    sc.SymmetryConv2d(32, 32, 4, stride=1, rotation=4, reflection=False),\n",
        "    sc.SymmetryPool(),\n",
        "    nn.BatchNorm2d(32),\n",
        "    nn.MaxPool2d(kernel_size=2, stride=2),\n",
        "\n",
        "    #block 3\n",
        "\n",
        "    sc.Slice(rotation=1, reflection=False),\n",
        "    sc.SymmetryConv2d(32, 64, 3, stride=1, rotation=1, reflection=False),\n",
        "    sc.SymmetryPool(),\n",
        "    nn.BatchNorm2d(64),\n",
        "    nn.MaxPool2d(kernel_size=2, stride=2),\n",
        "\n",
        "    #block 4\n",
        "\n",
        "    sc.Slice(rotation=4, reflection=False),\n",
        "    sc.SymmetryConv2d(64, 128, 8, stride=1, rotation=4, reflection=False),\n",
        "    sc.SymmetryPool(),\n",
        "    nn.BatchNorm2d(128),\n",
        "    nn.MaxPool2d(kernel_size=2, stride=2),\n",
        "\n",
        "    #block 5\n",
        "\n",
        "    Lambda(lambda x: x.view(x.size(0),-1)),\n",
        "    nn.Linear(2688 , 2048),                                               # Changed\n",
        "    nn.BatchNorm1d(2048),\n",
        "    nn.ReLU(),\n",
        "    nn.Dropout(0.5),\n",
        "    nn.Linear(2048 , 1024),                                               # Added\n",
        "    nn.BatchNorm1d(1024),                                                 # Added\n",
        "    nn.ReLU(),                                                            # Added\n",
        "    nn.Dropout(0.5),                                                      # Added\n",
        "    nn.Linear(1024 , 256),                                                # Added\n",
        "    nn.BatchNorm1d(256),                                                  # Added\n",
        "    nn.ReLU(),                                                            # Added\n",
        "    nn.Dropout(0.5),                                                      # Added\n",
        "    nn.Linear(256 , 64),                                                  # Added\n",
        "    nn.BatchNorm1d(64),                                                   # Added\n",
        "    nn.ReLU(),                                                            # Added\n",
        "    nn.Dropout(0.5),                                                      # Added\n",
        "    nn.Linear(64, num_classes),                                           # Added\n",
        "    nn.Softmax(dim=1)\n",
        ")      \n",
        "\n",
        "modelMoreLayers.to(device)\n",
        "train_losses, train_accuracies, val_losses, val_accuracies = train(modelMoreLayers, train_loader, val_loader, optimizer, criterion, n_epochs=25, device=device)\n",
        "test(modelMoreLayers, test_loader, device=device)\n",
        "plot_learning_curves(train_losses, train_accuracies, val_losses, val_accuracies)"
      ],
      "id": "sLu-CZOBs3Z6"
    },
    {
      "cell_type": "markdown",
      "metadata": {
        "id": "1e988bc2-6ba1-49cd-ae26-6feea8ad2776"
      },
      "source": [
        "# Task 2: Carpet Matching "
      ],
      "id": "1e988bc2-6ba1-49cd-ae26-6feea8ad2776"
    },
    {
      "cell_type": "code",
      "execution_count": 12,
      "metadata": {
        "id": "20a2ce3a-4c8c-4f1f-9a29-113063ce7f74",
        "colab": {
          "base_uri": "https://localhost:8080/"
        },
        "outputId": "01c33a2e-5531-498a-d085-eaa0231323a7"
      },
      "outputs": [
        {
          "output_type": "stream",
          "name": "stdout",
          "text": [
            "Carpet train shape: (15000, 1, 96, 60)\n",
            "Label train shape: (15000,)\n",
            "Ground truth test shape: (300,)\n",
            "Query carpets shape: (300, 1, 96, 60)\n",
            "Candidate carpets shape: (300, 4, 1, 96, 60)\n"
          ]
        }
      ],
      "source": [
        "# loading training and testing data for task 2\n",
        "# DO NOT MODIFY\n",
        "task2 = load_numpy_arr_from_url(\"https://github.com/vlamen/tue-deeplearning/blob/main/assignments/assignment_1/task2data.npz?raw=true\")\n",
        "# task2 = np.load('task2data.npz')\n",
        "\n",
        "X = task2['arr_0'].astype(float)\n",
        "y = task2['arr_1'].astype(float)\n",
        "gt = task2['arr_2'].astype(float) # ground truth\n",
        "queries = task2['arr_3'].astype(float)\n",
        "targets = task2['arr_4'].astype(float)\n",
        "\n",
        "print(f\"Carpet train shape: {X.shape}\")\n",
        "print(f\"Label train shape: {y.shape}\")\n",
        "print(f\"Ground truth test shape: {gt.shape}\")\n",
        "print(f\"Query carpets shape: {queries.shape}\")\n",
        "print(f\"Candidate carpets shape: {targets.shape}\")"
      ],
      "id": "20a2ce3a-4c8c-4f1f-9a29-113063ce7f74"
    },
    {
      "cell_type": "code",
      "execution_count": 13,
      "metadata": {
        "id": "fd0cc1db-e473-412e-b6b8-c95adc5438dd"
      },
      "outputs": [],
      "source": [
        "# function to determine performance of model\n",
        "def query_performance(net, queries, targets, gt, top=1):\n",
        "    assert top >= 1\n",
        "    cnt = 0\n",
        "    for i in range(gt.shape[0]):\n",
        "\n",
        "        q = queries[i][None].float().cuda()\n",
        "        t = targets[i].float().cuda()\n",
        "\n",
        "        with torch.no_grad():\n",
        "            \n",
        "            \n",
        "            ### MODIFY IF NECESSARY ###\n",
        "            emb_q = net(q).cpu().numpy()\n",
        "            emb_t = net(t).cpu().numpy()\n",
        "\n",
        "            dists = cdist(emb_q, emb_t)\n",
        "            \n",
        "            if top == 1:\n",
        "                pred = np.argmin(dists)\n",
        "\n",
        "                if pred == gt[i]:\n",
        "                    cnt += 1\n",
        "            \n",
        "            else:\n",
        "                pred = np.argsort(dists)\n",
        "                if gt[i] in pred[0,:top].tolist():\n",
        "                    cnt+=1\n",
        "    return (100*cnt/gt.shape[0])"
      ],
      "id": "fd0cc1db-e473-412e-b6b8-c95adc5438dd"
    },
    {
      "cell_type": "code",
      "execution_count": 14,
      "metadata": {
        "id": "se77Cw5lYw2H"
      },
      "outputs": [],
      "source": [
        "class EmbeddingNet(nn.Module):\n",
        "    def __init__(self):\n",
        "        \"\"\"CNN Builder.\"\"\"\n",
        "        super(EmbeddingNet, self).__init__()\n",
        "\n",
        "        self.front_layer = nn.Sequential(\n",
        "            \n",
        "        #block 1\n",
        "            \n",
        "        nn.Conv2d(in_channels=1, out_channels=16, kernel_size=3, padding=1),\n",
        "        nn.BatchNorm2d(16),\n",
        "        nn.ReLU(),\n",
        "        nn.Conv2d(in_channels=16, out_channels=16, kernel_size=3, padding=1),\n",
        "        nn.BatchNorm2d(16),\n",
        "        nn.ReLU(),\n",
        "        nn.Conv2d(in_channels=16, out_channels=32, kernel_size=3, padding=1),\n",
        "        nn.BatchNorm2d(32),\n",
        "        nn.ReLU(),\n",
        "\n",
        "        #block 2\n",
        "\n",
        "        sc.Slice(rotation=4, reflection=False),\n",
        "        sc.SymmetryConv2d(32, 32, 4, stride=1, rotation=4, reflection=False),\n",
        "        sc.SymmetryPool(),\n",
        "        nn.BatchNorm2d(32),\n",
        "        nn.MaxPool2d(kernel_size=2, stride=2),\n",
        "\n",
        "        #block 3\n",
        "\n",
        "        sc.Slice(rotation=1, reflection=False),\n",
        "        sc.SymmetryConv2d(32, 64, 3, stride=1, rotation=1, reflection=False),\n",
        "        sc.SymmetryPool(),\n",
        "        nn.BatchNorm2d(64),\n",
        "        nn.MaxPool2d(kernel_size=2, stride=2),\n",
        "\n",
        "        #block 4\n",
        "\n",
        "        sc.Slice(rotation=4, reflection=False),\n",
        "        sc.SymmetryConv2d(64, 128, 8, stride=1, rotation=4, reflection=False),\n",
        "        sc.SymmetryPool(),\n",
        "        nn.BatchNorm2d(128),\n",
        "        nn.MaxPool2d(kernel_size=2, stride=2),\n",
        "\n",
        "        #block 5\n",
        "        \n",
        "        Lambda(lambda x: x.view(x.size(0),-1)),\n",
        "        nn.Linear(2688 , 1024),\n",
        "        nn.BatchNorm1d(1024),\n",
        "        nn.ReLU(),\n",
        "        nn.Dropout(0.5),\n",
        "        nn.Linear(1024, 200),\n",
        "        nn.Softmax(dim=1)\n",
        "        )\n",
        "\n",
        "        #self.last_layer = nn.Linear(512, 10)\n",
        "\n",
        "    def forward(self, x):\n",
        "        \"\"\"Perform forward.\"\"\"\n",
        "        # conv layers\n",
        "        x = self.front_layer(x)\n",
        "        #x = self.last_layer(x)\n",
        "        return x\n",
        "    \n",
        "    def get_embedding(self, x):\n",
        "        return self.forward(x)"
      ],
      "id": "se77Cw5lYw2H"
    },
    {
      "cell_type": "code",
      "execution_count": 15,
      "metadata": {
        "id": "_uqoSXIsZ88P"
      },
      "outputs": [],
      "source": [
        "from torch.utils.data.sampler import BatchSampler\n",
        "import numpy as np\n",
        "class BalancedBatchSampler(BatchSampler):\n",
        "    \"\"\"\n",
        "    Returns batches of size n_classes * n_samples\n",
        "    \"\"\"\n",
        "\n",
        "    def __init__(self, labels, n_classes, n_samples):\n",
        "        self.labels = labels\n",
        "        self.labels_set = list(set(self.labels))\n",
        "        self.label_to_indices = {label: np.where(  np.array(self.labels) == label)[0]\n",
        "                                 for label in self.labels_set}\n",
        "        for l in self.labels_set:\n",
        "            np.random.shuffle(self.label_to_indices[l])\n",
        "        self.used_label_indices_count = {label: 0 for label in self.labels_set}\n",
        "        self.count = 0\n",
        "        self.n_classes = n_classes\n",
        "        self.n_samples = n_samples\n",
        "        self.n_dataset = len(self.labels)\n",
        "        self.batch_size = self.n_samples * self.n_classes\n",
        "\n",
        "    def __iter__(self):\n",
        "        self.count = 0\n",
        "        while self.count + self.batch_size < self.n_dataset:\n",
        "            classes = np.random.choice(self.labels_set, self.n_classes, replace=False)\n",
        "            indices = []\n",
        "            for class_ in classes:\n",
        "                indices.extend(self.label_to_indices[class_][\n",
        "                               self.used_label_indices_count[class_]:self.used_label_indices_count[\n",
        "                                                                         class_] + self.n_samples])\n",
        "                self.used_label_indices_count[class_] += self.n_samples\n",
        "                if self.used_label_indices_count[class_] + self.n_samples > len(self.label_to_indices[class_]):\n",
        "                    np.random.shuffle(self.label_to_indices[class_])\n",
        "                    self.used_label_indices_count[class_] = 0\n",
        "            yield indices\n",
        "            self.count += self.n_classes * self.n_samples\n",
        "\n",
        "    def __len__(self):\n",
        "        return self.n_dataset // self.batch_size"
      ],
      "id": "_uqoSXIsZ88P"
    },
    {
      "cell_type": "code",
      "execution_count": 16,
      "metadata": {
        "id": "V6syseTjaBFK"
      },
      "outputs": [],
      "source": [
        "from itertools import combinations\n",
        "\n",
        "class RandomTripletSelector():\n",
        "    \"\"\"\n",
        "    Select random negative  example for  each positive pair  to create triplets\n",
        "    \"\"\"\n",
        "\n",
        "    def __init__(self):\n",
        "        super(RandomTripletSelector, self).__init__()\n",
        "\n",
        "    def get_triplets(self, embeddings, labels):\n",
        "        labels = labels.cpu().data.numpy()\n",
        "        triplets = []\n",
        "        for label in set(labels):\n",
        "            label_mask = (labels == label)\n",
        "            label_indices = np.where(label_mask)[0]\n",
        "            if len(label_indices) < 2:\n",
        "                continue\n",
        "            negative_indices = np.where(np.logical_not(label_mask))[0]\n",
        "            anchor_positives = list(combinations(label_indices, 2))  # All anchor-positive pairs\n",
        "\n",
        "            # random choose one negative example for each positive pair\n",
        "            temp_triplets = [[anchor_positive[0], anchor_positive[1], np.random.choice(negative_indices)] for anchor_positive in anchor_positives]\n",
        "            triplets += temp_triplets\n",
        "\n",
        "        return torch.LongTensor(np.array(triplets))\n"
      ],
      "id": "V6syseTjaBFK"
    },
    {
      "cell_type": "code",
      "execution_count": 17,
      "metadata": {
        "id": "QkQ0Z1k6rgTK"
      },
      "outputs": [],
      "source": [
        "def pdist(vectors):\n",
        "    distance_matrix = -2 * vectors.mm(torch.t(vectors)) + vectors.pow(2).sum(dim=1).view(1, -1) + vectors.pow(2).sum(\n",
        "        dim=1).view(-1, 1)\n",
        "    return distance_matrix"
      ],
      "id": "QkQ0Z1k6rgTK"
    },
    {
      "cell_type": "code",
      "execution_count": 18,
      "metadata": {
        "id": "dExHzEHpq9c9"
      },
      "outputs": [],
      "source": [
        "from itertools import combinations\n",
        "\n",
        "class Informative_Negative_TripletSelector():\n",
        "\n",
        "    def __init__(self, margin):\n",
        "        super(Informative_Negative_TripletSelector, self).__init__()\n",
        "  \n",
        "        self.margin = margin\n",
        "  \n",
        "   # Our goal is to mining informative triplets.\n",
        "    def informative_negative(self, loss_values):\n",
        "        \n",
        "        informative_negative = np.where(loss_values > 0)[0]\n",
        "        return np.random.choice(informative_negative) if len(informative_negative) > 0 else None\n",
        "    \n",
        "\n",
        "    def get_triplets(self, embeddings, labels):\n",
        "        \n",
        "        if torch.cuda.is_available()==False:\n",
        "            embeddings = embeddings.cpu()\n",
        "        distance_matrix = pdist(embeddings)\n",
        "        distance_matrix = distance_matrix.cpu()\n",
        "\n",
        "        labels = labels.cpu().data.numpy()\n",
        "        triplets = []\n",
        "\n",
        "        for label in set(labels):\n",
        "            label_mask = (labels == label)\n",
        "            label_indices = np.where(label_mask)[0]\n",
        "            if len(label_indices) < 2:\n",
        "                continue\n",
        "            negative_indices = np.where(np.logical_not(label_mask))[0]\n",
        "            anchor_positives = list(combinations(label_indices, 2))  # All anchor-positive pairs\n",
        "            anchor_positives = np.array(anchor_positives)\n",
        "\n",
        "            \n",
        "            ap_distances = distance_matrix[anchor_positives[:, 0], anchor_positives[:, 1]]\n",
        "            for anchor_positive, ap_distance in zip(anchor_positives, ap_distances):\n",
        "                loss_values = ap_distance - distance_matrix[torch.LongTensor(np.array([anchor_positive[0]])), torch.LongTensor(negative_indices)] + self.margin\n",
        "                loss_values = loss_values.data.cpu().numpy()\n",
        "                \n",
        "                hard_negative = self.informative_negative(loss_values)\n",
        "                if hard_negative is not None:\n",
        "                    hard_negative = negative_indices[hard_negative]\n",
        "                    triplets.append([anchor_positive[0], anchor_positive[1], hard_negative])\n",
        "\n",
        "        if len(triplets) == 0:\n",
        "            triplets.append([anchor_positive[0], anchor_positive[1], negative_indices[0]])\n",
        "\n",
        "        triplets = np.array(triplets)\n",
        "        \n",
        "        return torch.LongTensor(triplets)"
      ],
      "id": "dExHzEHpq9c9"
    },
    {
      "cell_type": "code",
      "execution_count": 19,
      "metadata": {
        "id": "_mwz7DG8aDhn"
      },
      "outputs": [],
      "source": [
        "class TripletLoss(nn.Module):\n",
        "    \"\"\"\n",
        "    Triplets loss\n",
        "    Takes a batch of embeddings and corresponding labels.\n",
        "    Triplets are generated using triplet_selector object that take embeddings and targets and return indices of\n",
        "    triplets\n",
        "    \"\"\"\n",
        "\n",
        "    def __init__(self, margin, triplet_selector):\n",
        "        super(TripletLoss, self).__init__()\n",
        "        self.margin = margin\n",
        "        self.triplet_selector = triplet_selector\n",
        "\n",
        "    def forward(self, embeddings, target):\n",
        "\n",
        "        triplets = self.triplet_selector.get_triplets(embeddings, target)\n",
        "\n",
        "        if embeddings.is_cuda:\n",
        "            triplets = triplets.cuda()\n",
        "\n",
        "            \n",
        "        anchor_idx= triplets[:, 0]  \n",
        "        positive_idx= triplets[:, 1]  \n",
        "        negative_idx= triplets[:, 2]  \n",
        "            \n",
        "            \n",
        "        ap_distances = (embeddings[anchor_idx] - embeddings[positive_idx]).pow(2).sum(1)  # .pow(.5)\n",
        "        an_distances = (embeddings[anchor_idx] - embeddings[negative_idx]).pow(2).sum(1)  # .pow(.5)\n",
        "        losses = F.relu((ap_distances - an_distances)/an_distances.mean() + self.margin)\n",
        "\n",
        "        return losses.mean()"
      ],
      "id": "_mwz7DG8aDhn"
    },
    {
      "cell_type": "code",
      "execution_count": 20,
      "metadata": {
        "id": "X4C39g-1dO_3"
      },
      "outputs": [],
      "source": [
        "import numpy as np\n",
        "from tqdm import tqdm\n",
        "\n",
        "\n",
        "class Trainer():\n",
        "    def __init__(self,\n",
        "                 model: torch.nn.Module,\n",
        "                 device: torch.device,\n",
        "                 criterion: torch.nn.Module,\n",
        "                 optimizer: torch.optim.Optimizer,\n",
        "                 training_DataLoader: torch.utils.data.Dataset,\n",
        "                 validation_DataLoader: torch.utils.data.Dataset ,\n",
        "                 epochs: int\n",
        "                 ):\n",
        "        \n",
        "        self.model = model\n",
        "        self.criterion = criterion\n",
        "        self.optimizer = optimizer\n",
        "        self.training_DataLoader = training_DataLoader\n",
        "        self.validation_DataLoader = validation_DataLoader\n",
        "        self.device = device\n",
        "        self.epochs = epochs\n",
        "\n",
        "    def run_trainer(self):\n",
        "        for epoch in tqdm(range(self.epochs)):\n",
        "            self.model.train()  # train mode\n",
        "            train_losses=[]\n",
        "            for batch in self.training_DataLoader:\n",
        "                x,y=batch\n",
        "                input, target = x.to(self.device), y.to(self.device)  # send to device (GPU or CPU)\n",
        "                self.optimizer.zero_grad()  # zerograd the parameters\n",
        "                out = self.model(input)  # one forward pass\n",
        "                loss = self.criterion(out, target)  # calculate loss\n",
        "                 \n",
        "                loss_value = loss.item()\n",
        "                train_losses.append(loss_value)\n",
        "                 \n",
        "                loss.backward()  # one backward pass\n",
        "                self.optimizer.step()  # update the parameters\n",
        "\n",
        "            self.model.eval()  # evaluation mode\n",
        "            valid_losses = []  # accumulate the losses here\n",
        "\n",
        "            for batch in self.validation_DataLoader:\n",
        "                x,y=batch\n",
        "                input, target = x.to(self.device), y.to(self.device)  # send to device (GPU or CPU)\n",
        "                with torch.no_grad():\n",
        "                    out = self.model(input)   # one forward pass\n",
        "                    loss = self.criterion(out, target) # calculate loss\n",
        "                 \n",
        "                    loss_value = loss.item()\n",
        "                    valid_losses.append(loss_value)\n",
        "                \n",
        "            # print the results\n",
        "            print(f'EPOCH: {epoch+1:0>{len(str(self.epochs))}}/{self.epochs}', end=' ')\n",
        "            print(f'LOSS: {np.mean(train_losses):.4f}',end=' ')\n",
        "            print(f'VAL-LOSS: {np.mean(valid_losses):.4f}',end='\\n')"
      ],
      "id": "X4C39g-1dO_3"
    },
    {
      "cell_type": "code",
      "execution_count": 21,
      "metadata": {
        "id": "clFDMSC-9hlm"
      },
      "outputs": [],
      "source": [
        "train_dataset = TensorDataset(torch.from_numpy(X.astype(np.float32)[:12000]), torch.from_numpy(y.astype(np.float32)[:12000]))\n",
        "test_dataset = TensorDataset(torch.from_numpy(X.astype(np.float32)[12000:]), torch.from_numpy(y.astype(np.float32)[12000:]))\n",
        "\n",
        "train_batch_sampler = BalancedBatchSampler(y.astype(np.float32)[:12000], n_classes=20, n_samples=20)\n",
        "test_batch_sampler = BalancedBatchSampler(y.astype(np.float32)[12000:], n_classes=20, n_samples=20)\n",
        "\n",
        "triplets_train_loader = DataLoader(train_dataset, batch_sampler=train_batch_sampler)\n",
        "triplets_test_loader = DataLoader(test_dataset, batch_sampler=test_batch_sampler)"
      ],
      "id": "clFDMSC-9hlm"
    },
    {
      "cell_type": "code",
      "execution_count": 27,
      "metadata": {
        "id": "Dul-2YgfdTIp",
        "colab": {
          "base_uri": "https://localhost:8080/"
        },
        "outputId": "69c3c1e8-1cc2-409d-94fd-3f3dcfb06277"
      },
      "outputs": [
        {
          "output_type": "stream",
          "name": "stderr",
          "text": [
            " 10%|█         | 1/10 [00:28<04:15, 28.36s/it]"
          ]
        },
        {
          "output_type": "stream",
          "name": "stdout",
          "text": [
            "EPOCH: 01/10 LOSS: 1.0005 VAL-LOSS: 1.0536\n"
          ]
        },
        {
          "output_type": "stream",
          "name": "stderr",
          "text": [
            "\r 20%|██        | 2/10 [00:56<03:47, 28.48s/it]"
          ]
        },
        {
          "output_type": "stream",
          "name": "stdout",
          "text": [
            "EPOCH: 02/10 LOSS: 0.9982 VAL-LOSS: 0.9967\n"
          ]
        },
        {
          "output_type": "stream",
          "name": "stderr",
          "text": [
            "\r 30%|███       | 3/10 [01:25<03:18, 28.42s/it]"
          ]
        },
        {
          "output_type": "stream",
          "name": "stdout",
          "text": [
            "EPOCH: 03/10 LOSS: 0.9992 VAL-LOSS: 0.9970\n"
          ]
        },
        {
          "output_type": "stream",
          "name": "stderr",
          "text": [
            "\r 40%|████      | 4/10 [01:53<02:50, 28.48s/it]"
          ]
        },
        {
          "output_type": "stream",
          "name": "stdout",
          "text": [
            "EPOCH: 04/10 LOSS: 1.0011 VAL-LOSS: 0.9994\n"
          ]
        },
        {
          "output_type": "stream",
          "name": "stderr",
          "text": [
            "\r 50%|█████     | 5/10 [02:22<02:22, 28.46s/it]"
          ]
        },
        {
          "output_type": "stream",
          "name": "stdout",
          "text": [
            "EPOCH: 05/10 LOSS: 0.9992 VAL-LOSS: 0.9986\n"
          ]
        },
        {
          "output_type": "stream",
          "name": "stderr",
          "text": [
            "\r 60%|██████    | 6/10 [02:50<01:53, 28.38s/it]"
          ]
        },
        {
          "output_type": "stream",
          "name": "stdout",
          "text": [
            "EPOCH: 06/10 LOSS: 1.0008 VAL-LOSS: 1.0018\n"
          ]
        },
        {
          "output_type": "stream",
          "name": "stderr",
          "text": [
            "\r 70%|███████   | 7/10 [03:18<01:25, 28.40s/it]"
          ]
        },
        {
          "output_type": "stream",
          "name": "stdout",
          "text": [
            "EPOCH: 07/10 LOSS: 0.9992 VAL-LOSS: 0.9979\n"
          ]
        },
        {
          "output_type": "stream",
          "name": "stderr",
          "text": [
            "\r 80%|████████  | 8/10 [03:47<00:56, 28.37s/it]"
          ]
        },
        {
          "output_type": "stream",
          "name": "stdout",
          "text": [
            "EPOCH: 08/10 LOSS: 1.0002 VAL-LOSS: 1.0004\n"
          ]
        },
        {
          "output_type": "stream",
          "name": "stderr",
          "text": [
            "\r 90%|█████████ | 9/10 [04:15<00:28, 28.36s/it]"
          ]
        },
        {
          "output_type": "stream",
          "name": "stdout",
          "text": [
            "EPOCH: 09/10 LOSS: 1.0003 VAL-LOSS: 1.0023\n"
          ]
        },
        {
          "output_type": "stream",
          "name": "stderr",
          "text": [
            "100%|██████████| 10/10 [04:43<00:00, 28.40s/it]"
          ]
        },
        {
          "output_type": "stream",
          "name": "stdout",
          "text": [
            "EPOCH: 10/10 LOSS: 0.9992 VAL-LOSS: 0.9980\n"
          ]
        },
        {
          "output_type": "stream",
          "name": "stderr",
          "text": [
            "\n"
          ]
        }
      ],
      "source": [
        "# device\n",
        "if torch.cuda.is_available():\n",
        "    device = torch.device('cuda')\n",
        "else:\n",
        "    device=torch.device('cpu')\n",
        "    \n",
        "# model\n",
        "embedding_net = EmbeddingNet()\n",
        "model = embedding_net.to(device)\n",
        "\n",
        "\n",
        "# margin value\n",
        "margin=1\n",
        "\n",
        "# criterion\n",
        "criterion = TripletLoss(margin,  RandomTripletSelector())\n",
        "\n",
        "# optimizer\n",
        "optimizer = torch.optim.SGD(model.parameters(), lr=0.001, momentum=0.9)\n",
        "\n",
        "# trainer\n",
        "trainer = Trainer(model=model,\n",
        "                  device=device,\n",
        "                  criterion=criterion,\n",
        "                  optimizer=optimizer,\n",
        "                  training_DataLoader=triplets_train_loader,\n",
        "                  validation_DataLoader=triplets_test_loader,\n",
        "                  epochs=10)\n",
        "\n",
        "# start training\n",
        "trainer.run_trainer()"
      ],
      "id": "Dul-2YgfdTIp"
    },
    {
      "cell_type": "code",
      "execution_count": 28,
      "metadata": {
        "id": "FefRGyLcoWkV",
        "colab": {
          "base_uri": "https://localhost:8080/"
        },
        "outputId": "0040992f-a267-4783-f044-d54ad89ca7bf"
      },
      "outputs": [
        {
          "output_type": "stream",
          "name": "stdout",
          "text": [
            "73.33333333333333\n"
          ]
        }
      ],
      "source": [
        "q = torch.from_numpy(queries).float().cuda()\n",
        "t = torch.from_numpy(targets).float().cuda()\n",
        "g = torch.from_numpy(gt).float().cuda()\n",
        "\n",
        "print(query_performance(model, q, t, g, 1))"
      ],
      "id": "FefRGyLcoWkV"
    },
    {
      "cell_type": "code",
      "execution_count": 29,
      "metadata": {
        "id": "Y6MCtJ6xCOlg"
      },
      "outputs": [],
      "source": [
        "def extract_embeddings(dataloader, model):\n",
        "    \n",
        "    cuda = torch.cuda.is_available()\n",
        "    with torch.no_grad():\n",
        "        model.eval()\n",
        "        embeddings = np.zeros((len(dataloader.dataset), 200))\n",
        "        labels = np.zeros(len(dataloader.dataset))\n",
        "        k = 0\n",
        "        for images, target in dataloader:\n",
        "            if cuda:\n",
        "                images = images.cuda()\n",
        "            embeddings[k:k+len(images)] = model.get_embedding(images).data.cpu().numpy()\n",
        "            labels[k:k+len(images)] = target.numpy()\n",
        "            k += len(images)\n",
        "    return embeddings, labels\n",
        "\n",
        "train_embeddings, train_labels = extract_embeddings(triplets_train_loader, model)\n",
        "val_embeddings, val_labels = extract_embeddings(triplets_test_loader, model)"
      ],
      "id": "Y6MCtJ6xCOlg"
    },
    {
      "cell_type": "code",
      "execution_count": 30,
      "metadata": {
        "id": "4-enpqwVDoD7",
        "colab": {
          "base_uri": "https://localhost:8080/",
          "height": 1000
        },
        "outputId": "942997c8-35e1-4fde-e91f-9951e3b45bc4"
      },
      "outputs": [
        {
          "output_type": "display_data",
          "data": {
            "text/plain": [
              "<Figure size 1000x1000 with 1 Axes>"
            ],
            "image/png": "[encoded data removed]"
          },
          "metadata": {}
        },
        {
          "output_type": "display_data",
          "data": {
            "text/plain": [
              "<Figure size 1000x1000 with 1 Axes>"
            ],
            "image/png": "[encoded data removed]"
          },
          "metadata": {}
        }
      ],
      "source": [
        "from sklearn.manifold import TSNE\n",
        "def plot_tsne_embeddings(embeddings, targets, xlim=None, ylim=None):\n",
        "    \n",
        "    \n",
        "    # The first 3000 embeddings and targets\n",
        "    embeddings= embeddings[:3000]\n",
        "    targets= targets[:3000]\n",
        "\n",
        "    # Using Tsne to for dimension reduction \n",
        "    tsne = TSNE(n_components=2)\n",
        "    embeddings = tsne.fit_transform(embeddings)\n",
        "    \n",
        "    # Plot\n",
        "    plt.figure(figsize=(10,10))\n",
        "    for i in range(10):\n",
        "        inds = np.where(targets==i)[0]\n",
        "        plt.scatter(embeddings[inds,0], embeddings[inds,1], alpha=0.5)\n",
        "    if xlim:\n",
        "        plt.xlim(xlim[0], xlim[1])\n",
        "    if ylim:\n",
        "        plt.ylim(ylim[0], ylim[1])\n",
        "    # plt.legend(classes)\n",
        "\n",
        "plot_tsne_embeddings(train_embeddings, train_labels)\n",
        "plot_tsne_embeddings(val_embeddings, val_labels)"
      ],
      "id": "4-enpqwVDoD7"
    },
    {
      "cell_type": "code",
      "source": [],
      "metadata": {
        "id": "1MAGVUIzYndk"
      },
      "id": "1MAGVUIzYndk",
      "execution_count": null,
      "outputs": []
    }
  ],
  "metadata": {
    "accelerator": "GPU",
    "colab": {
      "provenance": []
    },
    "kernelspec": {
      "display_name": "Python 3",
      "name": "python3"
    },
    "language_info": {
      "codemirror_mode": {
        "name": "ipython",
        "version": 3
      },
      "file_extension": ".py",
      "mimetype": "text/x-python",
      "name": "python",
      "nbconvert_exporter": "python",
      "pygments_lexer": "ipython3",
      "version": "3.9.7"
    }
  },
  "nbformat": 4,
  "nbformat_minor": 5
}